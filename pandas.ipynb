{
 "cells": [
  {
   "cell_type": "code",
   "execution_count": 4,
   "id": "9f54ff16-bfe9-4252-95bc-7010271d5974",
   "metadata": {},
   "outputs": [],
   "source": [
    "import pandas as pd "
   ]
  },
  {
   "cell_type": "code",
   "execution_count": 5,
   "id": "59284a44-a65a-4c3a-8bd2-045aa97d88e0",
   "metadata": {},
   "outputs": [
    {
     "data": {
      "text/plain": [
       "{'Name': ['aman', 'gagan', 'naman', 'chaman'],\n",
       " 'branch': ['it', 'it', 'cse', 'ece'],\n",
       " 'class': [2, 1, 3, 4],\n",
       " 'city': ['jaipur', 'aligarh', 'vridavan', 'mathura']}"
      ]
     },
     "execution_count": 5,
     "metadata": {},
     "output_type": "execute_result"
    }
   ],
   "source": [
    "## structure data \n",
    "# dataframe  \n",
    "\n",
    "dt = {\"Name\":[\"aman\",\"gagan\",\"naman\",\"chaman\"],\n",
    "     \"branch\":['it','it','cse','ece'], \n",
    "     \"class\":[2,1,3,4], \n",
    "     \"city\":['jaipur','aligarh','vridavan','mathura']}  \n",
    "dt "
   ]
  },
  {
   "cell_type": "code",
   "execution_count": 8,
   "id": "39d76403-94de-455b-8caa-0e85ce97c653",
   "metadata": {},
   "outputs": [
    {
     "data": {
      "text/html": [
       "<div>\n",
       "<style scoped>\n",
       "    .dataframe tbody tr th:only-of-type {\n",
       "        vertical-align: middle;\n",
       "    }\n",
       "\n",
       "    .dataframe tbody tr th {\n",
       "        vertical-align: top;\n",
       "    }\n",
       "\n",
       "    .dataframe thead th {\n",
       "        text-align: right;\n",
       "    }\n",
       "</style>\n",
       "<table border=\"1\" class=\"dataframe\">\n",
       "  <thead>\n",
       "    <tr style=\"text-align: right;\">\n",
       "      <th></th>\n",
       "      <th>Name</th>\n",
       "      <th>branch</th>\n",
       "      <th>class</th>\n",
       "      <th>city</th>\n",
       "    </tr>\n",
       "  </thead>\n",
       "  <tbody>\n",
       "    <tr>\n",
       "      <th>0</th>\n",
       "      <td>aman</td>\n",
       "      <td>it</td>\n",
       "      <td>2</td>\n",
       "      <td>jaipur</td>\n",
       "    </tr>\n",
       "    <tr>\n",
       "      <th>1</th>\n",
       "      <td>gagan</td>\n",
       "      <td>it</td>\n",
       "      <td>1</td>\n",
       "      <td>aligarh</td>\n",
       "    </tr>\n",
       "    <tr>\n",
       "      <th>2</th>\n",
       "      <td>naman</td>\n",
       "      <td>cse</td>\n",
       "      <td>3</td>\n",
       "      <td>vridavan</td>\n",
       "    </tr>\n",
       "    <tr>\n",
       "      <th>3</th>\n",
       "      <td>chaman</td>\n",
       "      <td>ece</td>\n",
       "      <td>4</td>\n",
       "      <td>mathura</td>\n",
       "    </tr>\n",
       "  </tbody>\n",
       "</table>\n",
       "</div>"
      ],
      "text/plain": [
       "     Name branch  class      city\n",
       "0    aman     it      2    jaipur\n",
       "1   gagan     it      1   aligarh\n",
       "2   naman    cse      3  vridavan\n",
       "3  chaman    ece      4   mathura"
      ]
     },
     "execution_count": 8,
     "metadata": {},
     "output_type": "execute_result"
    }
   ],
   "source": [
    "# type(dt )  \n",
    "\n",
    "df = pd.DataFrame(dt) \n",
    "df "
   ]
  },
  {
   "cell_type": "code",
   "execution_count": 9,
   "id": "70cd4ba7-b388-4e26-991d-558f3212cd54",
   "metadata": {},
   "outputs": [
    {
     "name": "stdout",
     "output_type": "stream",
     "text": [
      "<class 'pandas.core.frame.DataFrame'>\n"
     ]
    }
   ],
   "source": [
    "print(type(df)) "
   ]
  },
  {
   "cell_type": "code",
   "execution_count": 11,
   "id": "c7610dd0-cc23-40d6-9c02-d9c63ba08b04",
   "metadata": {},
   "outputs": [
    {
     "data": {
      "text/plain": [
       "0      aman\n",
       "1     gagan\n",
       "2     naman\n",
       "3    chaman\n",
       "Name: Name, dtype: object"
      ]
     },
     "execution_count": 11,
     "metadata": {},
     "output_type": "execute_result"
    }
   ],
   "source": [
    "df['Name']   ## signle columns type ===> series "
   ]
  },
  {
   "cell_type": "code",
   "execution_count": 12,
   "id": "0ad5d8b0-eba9-4a7d-9f62-075b0869a06d",
   "metadata": {},
   "outputs": [
    {
     "data": {
      "text/plain": [
       "pandas.core.series.Series"
      ]
     },
     "execution_count": 12,
     "metadata": {},
     "output_type": "execute_result"
    }
   ],
   "source": [
    "type(df['Name'] )"
   ]
  },
  {
   "cell_type": "code",
   "execution_count": 19,
   "id": "1d7f4fac-4199-4d40-bb68-d7ffe57d58c2",
   "metadata": {},
   "outputs": [
    {
     "data": {
      "text/html": [
       "<div>\n",
       "<style scoped>\n",
       "    .dataframe tbody tr th:only-of-type {\n",
       "        vertical-align: middle;\n",
       "    }\n",
       "\n",
       "    .dataframe tbody tr th {\n",
       "        vertical-align: top;\n",
       "    }\n",
       "\n",
       "    .dataframe thead th {\n",
       "        text-align: right;\n",
       "    }\n",
       "</style>\n",
       "<table border=\"1\" class=\"dataframe\">\n",
       "  <thead>\n",
       "    <tr style=\"text-align: right;\">\n",
       "      <th></th>\n",
       "      <th>branch</th>\n",
       "      <th>Name</th>\n",
       "    </tr>\n",
       "  </thead>\n",
       "  <tbody>\n",
       "    <tr>\n",
       "      <th>0</th>\n",
       "      <td>it</td>\n",
       "      <td>aman</td>\n",
       "    </tr>\n",
       "    <tr>\n",
       "      <th>1</th>\n",
       "      <td>it</td>\n",
       "      <td>gagan</td>\n",
       "    </tr>\n",
       "    <tr>\n",
       "      <th>2</th>\n",
       "      <td>cse</td>\n",
       "      <td>naman</td>\n",
       "    </tr>\n",
       "    <tr>\n",
       "      <th>3</th>\n",
       "      <td>ece</td>\n",
       "      <td>chaman</td>\n",
       "    </tr>\n",
       "  </tbody>\n",
       "</table>\n",
       "</div>"
      ],
      "text/plain": [
       "  branch    Name\n",
       "0     it    aman\n",
       "1     it   gagan\n",
       "2    cse   naman\n",
       "3    ece  chaman"
      ]
     },
     "execution_count": 19,
     "metadata": {},
     "output_type": "execute_result"
    }
   ],
   "source": [
    "df[['branch','Name']]  # "
   ]
  },
  {
   "cell_type": "code",
   "execution_count": 16,
   "id": "8624a5c6-2bca-4584-b315-6473b9129adc",
   "metadata": {},
   "outputs": [
    {
     "data": {
      "text/html": [
       "<div>\n",
       "<style scoped>\n",
       "    .dataframe tbody tr th:only-of-type {\n",
       "        vertical-align: middle;\n",
       "    }\n",
       "\n",
       "    .dataframe tbody tr th {\n",
       "        vertical-align: top;\n",
       "    }\n",
       "\n",
       "    .dataframe thead th {\n",
       "        text-align: right;\n",
       "    }\n",
       "</style>\n",
       "<table border=\"1\" class=\"dataframe\">\n",
       "  <thead>\n",
       "    <tr style=\"text-align: right;\">\n",
       "      <th></th>\n",
       "      <th>Name</th>\n",
       "      <th>branch</th>\n",
       "      <th>class</th>\n",
       "      <th>city</th>\n",
       "    </tr>\n",
       "  </thead>\n",
       "  <tbody>\n",
       "    <tr>\n",
       "      <th>0</th>\n",
       "      <td>aman</td>\n",
       "      <td>it</td>\n",
       "      <td>2</td>\n",
       "      <td>jaipur</td>\n",
       "    </tr>\n",
       "    <tr>\n",
       "      <th>1</th>\n",
       "      <td>gagan</td>\n",
       "      <td>it</td>\n",
       "      <td>1</td>\n",
       "      <td>aligarh</td>\n",
       "    </tr>\n",
       "    <tr>\n",
       "      <th>2</th>\n",
       "      <td>naman</td>\n",
       "      <td>cse</td>\n",
       "      <td>3</td>\n",
       "      <td>vridavan</td>\n",
       "    </tr>\n",
       "    <tr>\n",
       "      <th>3</th>\n",
       "      <td>chaman</td>\n",
       "      <td>ece</td>\n",
       "      <td>4</td>\n",
       "      <td>mathura</td>\n",
       "    </tr>\n",
       "  </tbody>\n",
       "</table>\n",
       "</div>"
      ],
      "text/plain": [
       "     Name branch  class      city\n",
       "0    aman     it      2    jaipur\n",
       "1   gagan     it      1   aligarh\n",
       "2   naman    cse      3  vridavan\n",
       "3  chaman    ece      4   mathura"
      ]
     },
     "execution_count": 16,
     "metadata": {},
     "output_type": "execute_result"
    }
   ],
   "source": [
    "d"
   ]
  }
 ],
 "metadata": {
  "kernelspec": {
   "display_name": "Python 3 (ipykernel)",
   "language": "python",
   "name": "python3"
  },
  "language_info": {
   "codemirror_mode": {
    "name": "ipython",
    "version": 3
   },
   "file_extension": ".py",
   "mimetype": "text/x-python",
   "name": "python",
   "nbconvert_exporter": "python",
   "pygments_lexer": "ipython3",
   "version": "3.12.4"
  }
 },
 "nbformat": 4,
 "nbformat_minor": 5
}
