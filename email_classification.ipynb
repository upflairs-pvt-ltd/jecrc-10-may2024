{
 "cells": [
  {
   "cell_type": "code",
   "execution_count": 111,
   "id": "d2a668d6-78f0-47dc-a654-521e5b1fd805",
   "metadata": {},
   "outputs": [
    {
     "name": "stdout",
     "output_type": "stream",
     "text": [
      "Libraries imported!\n"
     ]
    }
   ],
   "source": [
    "import nltk \n",
    "import pandas as pd \n",
    "import numpy as np \n",
    "import re # regular expression \n",
    "from nltk.corpus import stopwords \n",
    "from nltk.stem import PorterStemmer \n",
    "from tensorflow.keras.preprocessing.text import Tokenizer   ## text to numerical representation \n",
    "from tensorflow.keras.utils import pad_sequences   # to equalize the length of sequences \n",
    "from tensorflow.keras.models import Sequential \n",
    "from tensorflow.keras.layers import SimpleRNN, Dense,LSTM \n",
    "print(\"Libraries imported!\")"
   ]
  },
  {
   "cell_type": "code",
   "execution_count": 2,
   "id": "9dd6c36c-ee33-40b2-84e5-0eb82ee0dd4b",
   "metadata": {},
   "outputs": [],
   "source": [
    "# nltk.download() "
   ]
  },
  {
   "cell_type": "code",
   "execution_count": 3,
   "id": "ffbfcee2-42f9-4c0b-973f-775fd3a635ff",
   "metadata": {},
   "outputs": [],
   "source": [
    "with open(\"SMSSpamCollection.txt\") as file : \n",
    "    content = file.readlines()"
   ]
  },
  {
   "cell_type": "code",
   "execution_count": 4,
   "id": "c871e167-94ed-4e28-85da-f90a05a7e038",
   "metadata": {},
   "outputs": [],
   "source": [
    "x = []\n",
    "y = []\n",
    "for email in content:\n",
    "    email_with_label = email.split(\"\\t\")\n",
    "    if len(email_with_label) == 2:\n",
    "        x.append(email_with_label[1][:-1])\n",
    "        y.append(email_with_label[0])"
   ]
  },
  {
   "cell_type": "code",
   "execution_count": 5,
   "id": "0f4d5666-905c-41dc-a341-4d8e32d648c4",
   "metadata": {},
   "outputs": [
    {
     "data": {
      "text/html": [
       "<div>\n",
       "<style scoped>\n",
       "    .dataframe tbody tr th:only-of-type {\n",
       "        vertical-align: middle;\n",
       "    }\n",
       "\n",
       "    .dataframe tbody tr th {\n",
       "        vertical-align: top;\n",
       "    }\n",
       "\n",
       "    .dataframe thead th {\n",
       "        text-align: right;\n",
       "    }\n",
       "</style>\n",
       "<table border=\"1\" class=\"dataframe\">\n",
       "  <thead>\n",
       "    <tr style=\"text-align: right;\">\n",
       "      <th></th>\n",
       "      <th>email_message</th>\n",
       "      <th>labels</th>\n",
       "    </tr>\n",
       "  </thead>\n",
       "  <tbody>\n",
       "    <tr>\n",
       "      <th>0</th>\n",
       "      <td>Go until jurong point, crazy.. Available only ...</td>\n",
       "      <td>ham</td>\n",
       "    </tr>\n",
       "    <tr>\n",
       "      <th>1</th>\n",
       "      <td>Ok lar... Joking wif u oni...</td>\n",
       "      <td>ham</td>\n",
       "    </tr>\n",
       "    <tr>\n",
       "      <th>2</th>\n",
       "      <td>Free entry in 2 a wkly comp to win FA Cup fina...</td>\n",
       "      <td>spam</td>\n",
       "    </tr>\n",
       "    <tr>\n",
       "      <th>3</th>\n",
       "      <td>U dun say so early hor... U c already then say...</td>\n",
       "      <td>ham</td>\n",
       "    </tr>\n",
       "    <tr>\n",
       "      <th>4</th>\n",
       "      <td>Nah I don't think he goes to usf, he lives aro...</td>\n",
       "      <td>ham</td>\n",
       "    </tr>\n",
       "  </tbody>\n",
       "</table>\n",
       "</div>"
      ],
      "text/plain": [
       "                                       email_message labels\n",
       "0  Go until jurong point, crazy.. Available only ...    ham\n",
       "1                      Ok lar... Joking wif u oni...    ham\n",
       "2  Free entry in 2 a wkly comp to win FA Cup fina...   spam\n",
       "3  U dun say so early hor... U c already then say...    ham\n",
       "4  Nah I don't think he goes to usf, he lives aro...    ham"
      ]
     },
     "execution_count": 5,
     "metadata": {},
     "output_type": "execute_result"
    }
   ],
   "source": [
    "### dataframe \n",
    "df = pd.DataFrame({\"email_message\":x,\"labels\":y}) \n",
    "df.head(5)"
   ]
  },
  {
   "cell_type": "code",
   "execution_count": 6,
   "id": "e7e12348-188e-4100-a2f5-daac994a3206",
   "metadata": {},
   "outputs": [
    {
     "name": "stdout",
     "output_type": "stream",
     "text": [
      "<class 'pandas.core.frame.DataFrame'>\n",
      "RangeIndex: 5574 entries, 0 to 5573\n",
      "Data columns (total 2 columns):\n",
      " #   Column         Non-Null Count  Dtype \n",
      "---  ------         --------------  ----- \n",
      " 0   email_message  5574 non-null   object\n",
      " 1   labels         5574 non-null   object\n",
      "dtypes: object(2)\n",
      "memory usage: 87.2+ KB\n"
     ]
    }
   ],
   "source": [
    "df.info()"
   ]
  },
  {
   "cell_type": "code",
   "execution_count": 7,
   "id": "4e033644-b34f-4e4e-890c-460151df62b8",
   "metadata": {},
   "outputs": [
    {
     "data": {
      "text/plain": [
       "labels\n",
       "ham     4827\n",
       "spam     747\n",
       "Name: count, dtype: int64"
      ]
     },
     "execution_count": 7,
     "metadata": {},
     "output_type": "execute_result"
    }
   ],
   "source": [
    "df['labels'].value_counts()"
   ]
  },
  {
   "cell_type": "code",
   "execution_count": 8,
   "id": "f923d5ad-f917-4fd7-a845-f8577ecc8db7",
   "metadata": {},
   "outputs": [],
   "source": [
    "ham = df[df['labels'] == \"ham\"]\n",
    "spam = df[df['labels'] == \"spam\"]"
   ]
  },
  {
   "cell_type": "code",
   "execution_count": 9,
   "id": "7578cb41-4bc1-4aed-9ff8-779a6160ec72",
   "metadata": {},
   "outputs": [
    {
     "data": {
      "text/plain": [
       "((747, 2), (4827, 2))"
      ]
     },
     "execution_count": 9,
     "metadata": {},
     "output_type": "execute_result"
    }
   ],
   "source": [
    "spam.shape , ham.shape "
   ]
  },
  {
   "cell_type": "code",
   "execution_count": 10,
   "id": "11a92725-dc13-4b17-8b5f-0059e90d39f4",
   "metadata": {},
   "outputs": [],
   "source": [
    "HAM = ham.sample(1000)"
   ]
  },
  {
   "cell_type": "code",
   "execution_count": 11,
   "id": "e2f80284-a629-4536-889b-e5a902e0fa29",
   "metadata": {},
   "outputs": [
    {
     "data": {
      "text/plain": [
       "(1000, 2)"
      ]
     },
     "execution_count": 11,
     "metadata": {},
     "output_type": "execute_result"
    }
   ],
   "source": [
    "HAM.shape "
   ]
  },
  {
   "cell_type": "code",
   "execution_count": 12,
   "id": "8c02f738-23c5-477f-a68b-c004ca730065",
   "metadata": {},
   "outputs": [
    {
     "data": {
      "text/html": [
       "<div>\n",
       "<style scoped>\n",
       "    .dataframe tbody tr th:only-of-type {\n",
       "        vertical-align: middle;\n",
       "    }\n",
       "\n",
       "    .dataframe tbody tr th {\n",
       "        vertical-align: top;\n",
       "    }\n",
       "\n",
       "    .dataframe thead th {\n",
       "        text-align: right;\n",
       "    }\n",
       "</style>\n",
       "<table border=\"1\" class=\"dataframe\">\n",
       "  <thead>\n",
       "    <tr style=\"text-align: right;\">\n",
       "      <th></th>\n",
       "      <th>email_message</th>\n",
       "      <th>labels</th>\n",
       "    </tr>\n",
       "  </thead>\n",
       "  <tbody>\n",
       "    <tr>\n",
       "      <th>2908</th>\n",
       "      <td>ALRITE</td>\n",
       "      <td>ham</td>\n",
       "    </tr>\n",
       "    <tr>\n",
       "      <th>1273</th>\n",
       "      <td>Ok...</td>\n",
       "      <td>ham</td>\n",
       "    </tr>\n",
       "    <tr>\n",
       "      <th>4462</th>\n",
       "      <td>Thanks again for your reply today. When is ur ...</td>\n",
       "      <td>ham</td>\n",
       "    </tr>\n",
       "    <tr>\n",
       "      <th>1383</th>\n",
       "      <td>Its ok my arm is feeling weak cuz i got a shot...</td>\n",
       "      <td>ham</td>\n",
       "    </tr>\n",
       "    <tr>\n",
       "      <th>2608</th>\n",
       "      <td>:-) yeah! Lol. Luckily i didn't have a starrin...</td>\n",
       "      <td>ham</td>\n",
       "    </tr>\n",
       "  </tbody>\n",
       "</table>\n",
       "</div>"
      ],
      "text/plain": [
       "                                          email_message labels\n",
       "2908                                             ALRITE    ham\n",
       "1273                                              Ok...    ham\n",
       "4462  Thanks again for your reply today. When is ur ...    ham\n",
       "1383  Its ok my arm is feeling weak cuz i got a shot...    ham\n",
       "2608  :-) yeah! Lol. Luckily i didn't have a starrin...    ham"
      ]
     },
     "execution_count": 12,
     "metadata": {},
     "output_type": "execute_result"
    }
   ],
   "source": [
    "df2 = pd.concat([HAM,spam])\n",
    "df2.head(5)\n",
    "## balance dataset "
   ]
  },
  {
   "cell_type": "code",
   "execution_count": 13,
   "id": "eb387b9c-a9ba-4be3-a2df-3d31ed25df3c",
   "metadata": {},
   "outputs": [
    {
     "data": {
      "text/plain": [
       "(1747, 2)"
      ]
     },
     "execution_count": 13,
     "metadata": {},
     "output_type": "execute_result"
    }
   ],
   "source": [
    "df2.shape   # 1000 <== ham , 747 spam "
   ]
  },
  {
   "cell_type": "code",
   "execution_count": 19,
   "id": "02530946-0545-4851-9041-7a678f72fbb2",
   "metadata": {},
   "outputs": [],
   "source": [
    "df2.reset_index(drop=True,inplace=True)"
   ]
  },
  {
   "cell_type": "code",
   "execution_count": 27,
   "id": "572c495e-bb25-453a-85ca-bc3b323dd0d0",
   "metadata": {},
   "outputs": [
    {
     "data": {
      "text/plain": [
       "'Do u noe how 2 send files between 2 computers?'"
      ]
     },
     "execution_count": 27,
     "metadata": {},
     "output_type": "execute_result"
    }
   ],
   "source": [
    "## text cleaning , unnecssary \n",
    "## text ==> numerical \n",
    "## 1. a-z A-Z \n",
    "df2['email_message'][300]"
   ]
  },
  {
   "cell_type": "code",
   "execution_count": 56,
   "id": "62946e42-e5d6-4c2f-80af-e73475697d01",
   "metadata": {},
   "outputs": [],
   "source": [
    "## Text cleaning\n",
    "stemming = PorterStemmer()\n",
    "x = []\n",
    "stopwords_ls =  stopwords.words('english')\n",
    "for message in df2['email_message']:\n",
    "    clean_message = re.sub(\"[^a-zA-z ]\",\"\",message)  # remove the un-necessary characters from the message \n",
    "    lower_clean_message = clean_message.lower()  # convert into lower case \n",
    "    ls_of_words = nltk.word_tokenize(lower_clean_message)  # divide the sentence into words\n",
    "    ls_of_words_withoutstopwords = [word for word in ls_of_words if word not in stopwords_ls]  # remove stopwords\n",
    "    ls_of_stemmed_words = [stemming.stem(word) for word in ls_of_words_withoutstopwords]  # applied stemming \n",
    "    clean_message = \" \".join(ls_of_stemmed_words)\n",
    "    x.append(clean_message)"
   ]
  },
  {
   "cell_type": "code",
   "execution_count": 53,
   "id": "6cf647c1-9495-4846-960b-ad5223d49a4e",
   "metadata": {},
   "outputs": [
    {
     "name": "stdout",
     "output_type": "stream",
     "text": [
      "['Its', 'ok', 'my', 'arm', 'is', 'feeling', 'weak', 'cuz', 'i', 'got', 'a', 'shot', 'so', 'we', 'can', 'go', 'another', 'time']\n"
     ]
    },
    {
     "data": {
      "text/plain": [
       "['Its',\n",
       " 'ok',\n",
       " 'arm',\n",
       " 'feeling',\n",
       " 'weak',\n",
       " 'cuz',\n",
       " 'got',\n",
       " 'shot',\n",
       " 'go',\n",
       " 'another',\n",
       " 'time']"
      ]
     },
     "execution_count": 53,
     "metadata": {},
     "output_type": "execute_result"
    }
   ],
   "source": [
    "# x[3].split() ### testing  \n",
    "stopwords_ls =  stopwords.words('english')\n",
    "single_message = nltk.word_tokenize(df2['email_message'][3])\n",
    "print(single_message)\n",
    "new_ls = []\n",
    "for word in single_message:\n",
    "    if word not in stopwords_ls:\n",
    "        new_ls.append(word) \n",
    "new_ls"
   ]
  },
  {
   "cell_type": "code",
   "execution_count": 55,
   "id": "c0363716-2a88-464e-8ab7-a24cd2cdfef4",
   "metadata": {},
   "outputs": [
    {
     "data": {
      "text/plain": [
       "'Its ok arm feeling weak cuz got shot go another time'"
      ]
     },
     "execution_count": 55,
     "metadata": {},
     "output_type": "execute_result"
    }
   ],
   "source": [
    "ls = ['Its',\n",
    " 'ok',\n",
    " 'arm',\n",
    " 'feeling',\n",
    " 'weak',\n",
    " 'cuz',\n",
    " 'got',\n",
    " 'shot',\n",
    " 'go',\n",
    " 'another',\n",
    " 'time']\n",
    "\" \".join(ls)"
   ]
  },
  {
   "cell_type": "code",
   "execution_count": 62,
   "id": "f2bef2a5-9f47-45c9-adf4-7182858b6d66",
   "metadata": {},
   "outputs": [
    {
     "data": {
      "text/plain": [
       "\"Yeah you should. I think you can use your gt atm now to register. Not sure but if there's anyway i can help let me know. But when you do be sure you are ready.\""
      ]
     },
     "execution_count": 62,
     "metadata": {},
     "output_type": "execute_result"
    }
   ],
   "source": [
    "df2['email_message'][259]   # message before cleaning"
   ]
  },
  {
   "cell_type": "code",
   "execution_count": 63,
   "id": "4747e8e9-75d3-47ff-8f8a-95f0c7888164",
   "metadata": {},
   "outputs": [
    {
     "data": {
      "text/plain": [
       "'yeah think use gt atm regist sure there anyway help let know sure readi'"
      ]
     },
     "execution_count": 63,
     "metadata": {},
     "output_type": "execute_result"
    }
   ],
   "source": [
    "x[259]   # m3ssage after cl3aning"
   ]
  },
  {
   "cell_type": "code",
   "execution_count": 66,
   "id": "f93f96cf-9bcf-40c5-96fe-378dab81d112",
   "metadata": {},
   "outputs": [],
   "source": [
    "### Text to numerical representation \n",
    "tokenizer = Tokenizer(oov_token=\"<nothing>\") \n",
    "tokenizer.fit_on_texts(x)"
   ]
  },
  {
   "cell_type": "code",
   "execution_count": 69,
   "id": "bfc56cf9-2f68-4cec-8c3a-e9b1e4c89d3a",
   "metadata": {},
   "outputs": [],
   "source": [
    "# tokenizer.word_index \n",
    "sequence = tokenizer.texts_to_sequences(x)"
   ]
  },
  {
   "cell_type": "code",
   "execution_count": 78,
   "id": "4898e1d0-c26a-40a4-8824-84ed0cb0a472",
   "metadata": {},
   "outputs": [
    {
     "data": {
      "text/plain": [
       "26"
      ]
     },
     "execution_count": 78,
     "metadata": {},
     "output_type": "execute_result"
    }
   ],
   "source": [
    "len(sequence[2])\n"
   ]
  },
  {
   "cell_type": "code",
   "execution_count": 82,
   "id": "8b11652d-8782-456d-a764-d7c3ecf52a1e",
   "metadata": {},
   "outputs": [
    {
     "data": {
      "text/plain": [
       "26"
      ]
     },
     "execution_count": 82,
     "metadata": {},
     "output_type": "execute_result"
    }
   ],
   "source": [
    "len(x[2].split())"
   ]
  },
  {
   "cell_type": "code",
   "execution_count": 86,
   "id": "25f80fd9-7cdc-432c-a0f0-dcc79b877f7d",
   "metadata": {},
   "outputs": [
    {
     "name": "stdout",
     "output_type": "stream",
     "text": [
      "80\n",
      "80\n"
     ]
    }
   ],
   "source": [
    "temp_ls = []\n",
    "for message in sequence :\n",
    "    temp_ls.append(len(message))\n",
    "print(max(temp_ls))\n",
    "# or   \n",
    "print(max(list(map(len,sequence))))\n"
   ]
  },
  {
   "cell_type": "code",
   "execution_count": 93,
   "id": "179bc74c-d66c-45cc-aae2-f617504170ee",
   "metadata": {},
   "outputs": [],
   "source": [
    "sequences = pad_sequences(sequences=sequence,maxlen=80)"
   ]
  },
  {
   "cell_type": "code",
   "execution_count": 100,
   "id": "2d5128e3-1aca-479c-a0a1-cde476cd3251",
   "metadata": {},
   "outputs": [],
   "source": [
    "Y = np.array(df2['labels'].map({'ham':0,'spam':1})) \n"
   ]
  },
  {
   "cell_type": "code",
   "execution_count": null,
   "id": "469be602-40ed-4cd9-a4d1-ef8b82d64cce",
   "metadata": {},
   "outputs": [],
   "source": []
  },
  {
   "cell_type": "code",
   "execution_count": 102,
   "id": "d8e30799-0123-48e5-92e4-69ab42b520a6",
   "metadata": {},
   "outputs": [
    {
     "data": {
      "text/plain": [
       "((1747, 80), (1747,))"
      ]
     },
     "execution_count": 102,
     "metadata": {},
     "output_type": "execute_result"
    }
   ],
   "source": [
    "sequences.shape , Y.shape "
   ]
  },
  {
   "cell_type": "code",
   "execution_count": 103,
   "id": "a1acd7b2-1a8b-466c-9e35-736ed4d9e926",
   "metadata": {},
   "outputs": [],
   "source": [
    "# sequences  ===>  X  \n",
    "# y          ===>  y   \n",
    "\n",
    "# training and testins split  \n",
    "from sklearn.model_selection import train_test_split \n",
    "x_train,x_test,y_train,y_test = train_test_split( sequences,Y,test_size=0.15,random_state=32)"
   ]
  },
  {
   "cell_type": "code",
   "execution_count": null,
   "id": "f4349ff4-4f1c-45a0-a8c1-28cea821788d",
   "metadata": {},
   "outputs": [],
   "source": [
    "### Data cleaning \n",
    "### data processing \n",
    "### data transform \n",
    "### numerical representation \n",
    "### training testing split  \n",
    "### Algorithm or model define  \n",
    "### algorithm or model train \n",
    "### prediction \n",
    "### "
   ]
  },
  {
   "cell_type": "code",
   "execution_count": 105,
   "id": "f2e00a7f-c3be-47e4-8797-69f1bec923fe",
   "metadata": {},
   "outputs": [],
   "source": []
  },
  {
   "cell_type": "code",
   "execution_count": 118,
   "id": "4846c3d5-e966-4fe6-b5e2-c5c066ba6657",
   "metadata": {},
   "outputs": [
    {
     "data": {
      "text/html": [
       "<pre style=\"white-space:pre;overflow-x:auto;line-height:normal;font-family:Menlo,'DejaVu Sans Mono',consolas,'Courier New',monospace\"><span style=\"font-weight: bold\">Model: \"sequential_9\"</span>\n",
       "</pre>\n"
      ],
      "text/plain": [
       "\u001b[1mModel: \"sequential_9\"\u001b[0m\n"
      ]
     },
     "metadata": {},
     "output_type": "display_data"
    },
    {
     "data": {
      "text/html": [
       "<pre style=\"white-space:pre;overflow-x:auto;line-height:normal;font-family:Menlo,'DejaVu Sans Mono',consolas,'Courier New',monospace\">┏━━━━━━━━━━━━━━━━━━━━━━━━━━━━━━━━━━━━━━┳━━━━━━━━━━━━━━━━━━━━━━━━━━━━━┳━━━━━━━━━━━━━━━━━┓\n",
       "┃<span style=\"font-weight: bold\"> Layer (type)                         </span>┃<span style=\"font-weight: bold\"> Output Shape                </span>┃<span style=\"font-weight: bold\">         Param # </span>┃\n",
       "┡━━━━━━━━━━━━━━━━━━━━━━━━━━━━━━━━━━━━━━╇━━━━━━━━━━━━━━━━━━━━━━━━━━━━━╇━━━━━━━━━━━━━━━━━┩\n",
       "│ simple_rnn_5 (<span style=\"color: #0087ff; text-decoration-color: #0087ff\">SimpleRNN</span>)             │ (<span style=\"color: #00d7ff; text-decoration-color: #00d7ff\">None</span>, <span style=\"color: #00af00; text-decoration-color: #00af00\">64</span>)                  │           <span style=\"color: #00af00; text-decoration-color: #00af00\">4,224</span> │\n",
       "├──────────────────────────────────────┼─────────────────────────────┼─────────────────┤\n",
       "│ dense_8 (<span style=\"color: #0087ff; text-decoration-color: #0087ff\">Dense</span>)                      │ (<span style=\"color: #00d7ff; text-decoration-color: #00d7ff\">None</span>, <span style=\"color: #00af00; text-decoration-color: #00af00\">1</span>)                   │              <span style=\"color: #00af00; text-decoration-color: #00af00\">65</span> │\n",
       "└──────────────────────────────────────┴─────────────────────────────┴─────────────────┘\n",
       "</pre>\n"
      ],
      "text/plain": [
       "┏━━━━━━━━━━━━━━━━━━━━━━━━━━━━━━━━━━━━━━┳━━━━━━━━━━━━━━━━━━━━━━━━━━━━━┳━━━━━━━━━━━━━━━━━┓\n",
       "┃\u001b[1m \u001b[0m\u001b[1mLayer (type)                        \u001b[0m\u001b[1m \u001b[0m┃\u001b[1m \u001b[0m\u001b[1mOutput Shape               \u001b[0m\u001b[1m \u001b[0m┃\u001b[1m \u001b[0m\u001b[1m        Param #\u001b[0m\u001b[1m \u001b[0m┃\n",
       "┡━━━━━━━━━━━━━━━━━━━━━━━━━━━━━━━━━━━━━━╇━━━━━━━━━━━━━━━━━━━━━━━━━━━━━╇━━━━━━━━━━━━━━━━━┩\n",
       "│ simple_rnn_5 (\u001b[38;5;33mSimpleRNN\u001b[0m)             │ (\u001b[38;5;45mNone\u001b[0m, \u001b[38;5;34m64\u001b[0m)                  │           \u001b[38;5;34m4,224\u001b[0m │\n",
       "├──────────────────────────────────────┼─────────────────────────────┼─────────────────┤\n",
       "│ dense_8 (\u001b[38;5;33mDense\u001b[0m)                      │ (\u001b[38;5;45mNone\u001b[0m, \u001b[38;5;34m1\u001b[0m)                   │              \u001b[38;5;34m65\u001b[0m │\n",
       "└──────────────────────────────────────┴─────────────────────────────┴─────────────────┘\n"
      ]
     },
     "metadata": {},
     "output_type": "display_data"
    },
    {
     "data": {
      "text/html": [
       "<pre style=\"white-space:pre;overflow-x:auto;line-height:normal;font-family:Menlo,'DejaVu Sans Mono',consolas,'Courier New',monospace\"><span style=\"font-weight: bold\"> Total params: </span><span style=\"color: #00af00; text-decoration-color: #00af00\">4,289</span> (16.75 KB)\n",
       "</pre>\n"
      ],
      "text/plain": [
       "\u001b[1m Total params: \u001b[0m\u001b[38;5;34m4,289\u001b[0m (16.75 KB)\n"
      ]
     },
     "metadata": {},
     "output_type": "display_data"
    },
    {
     "data": {
      "text/html": [
       "<pre style=\"white-space:pre;overflow-x:auto;line-height:normal;font-family:Menlo,'DejaVu Sans Mono',consolas,'Courier New',monospace\"><span style=\"font-weight: bold\"> Trainable params: </span><span style=\"color: #00af00; text-decoration-color: #00af00\">4,289</span> (16.75 KB)\n",
       "</pre>\n"
      ],
      "text/plain": [
       "\u001b[1m Trainable params: \u001b[0m\u001b[38;5;34m4,289\u001b[0m (16.75 KB)\n"
      ]
     },
     "metadata": {},
     "output_type": "display_data"
    },
    {
     "data": {
      "text/html": [
       "<pre style=\"white-space:pre;overflow-x:auto;line-height:normal;font-family:Menlo,'DejaVu Sans Mono',consolas,'Courier New',monospace\"><span style=\"font-weight: bold\"> Non-trainable params: </span><span style=\"color: #00af00; text-decoration-color: #00af00\">0</span> (0.00 B)\n",
       "</pre>\n"
      ],
      "text/plain": [
       "\u001b[1m Non-trainable params: \u001b[0m\u001b[38;5;34m0\u001b[0m (0.00 B)\n"
      ]
     },
     "metadata": {},
     "output_type": "display_data"
    }
   ],
   "source": [
    "## RNN model define \n",
    "RNN_model = Sequential()\n",
    "RNN_model.add(SimpleRNN(64,input_shape=(80,1),return_sequences=False))\n",
    "RNN_model.add(Dense(1,activation='sigmoid'))\n",
    "\n",
    "## compiling the model\n",
    "RNN_model.compile(optimizer='adam',loss='binary_crossentropy',metrics=['accuracy'])\n",
    "RNN_model.summary()"
   ]
  },
  {
   "cell_type": "code",
   "execution_count": 119,
   "id": "8720c231-8a01-48a8-a11d-e761ed20471a",
   "metadata": {},
   "outputs": [
    {
     "name": "stdout",
     "output_type": "stream",
     "text": [
      "Epoch 1/10\n",
      "\u001b[1m47/47\u001b[0m \u001b[32m━━━━━━━━━━━━━━━━━━━━\u001b[0m\u001b[37m\u001b[0m \u001b[1m5s\u001b[0m 27ms/step - accuracy: 0.5942 - loss: 0.6776 - val_accuracy: 0.5970 - val_loss: 0.6682\n",
      "Epoch 2/10\n",
      "\u001b[1m47/47\u001b[0m \u001b[32m━━━━━━━━━━━━━━━━━━━━\u001b[0m\u001b[37m\u001b[0m \u001b[1m1s\u001b[0m 19ms/step - accuracy: 0.6040 - loss: 0.6647 - val_accuracy: 0.5741 - val_loss: 0.6638\n",
      "Epoch 3/10\n",
      "\u001b[1m47/47\u001b[0m \u001b[32m━━━━━━━━━━━━━━━━━━━━\u001b[0m\u001b[37m\u001b[0m \u001b[1m1s\u001b[0m 20ms/step - accuracy: 0.6123 - loss: 0.6650 - val_accuracy: 0.6008 - val_loss: 0.6612\n",
      "Epoch 4/10\n",
      "\u001b[1m47/47\u001b[0m \u001b[32m━━━━━━━━━━━━━━━━━━━━\u001b[0m\u001b[37m\u001b[0m \u001b[1m1s\u001b[0m 23ms/step - accuracy: 0.5831 - loss: 0.6638 - val_accuracy: 0.6084 - val_loss: 0.6585\n",
      "Epoch 5/10\n",
      "\u001b[1m47/47\u001b[0m \u001b[32m━━━━━━━━━━━━━━━━━━━━\u001b[0m\u001b[37m\u001b[0m \u001b[1m1s\u001b[0m 22ms/step - accuracy: 0.5886 - loss: 0.6663 - val_accuracy: 0.6084 - val_loss: 0.6555\n",
      "Epoch 6/10\n",
      "\u001b[1m47/47\u001b[0m \u001b[32m━━━━━━━━━━━━━━━━━━━━\u001b[0m\u001b[37m\u001b[0m \u001b[1m1s\u001b[0m 20ms/step - accuracy: 0.6222 - loss: 0.6531 - val_accuracy: 0.6160 - val_loss: 0.6576\n",
      "Epoch 7/10\n",
      "\u001b[1m47/47\u001b[0m \u001b[32m━━━━━━━━━━━━━━━━━━━━\u001b[0m\u001b[37m\u001b[0m \u001b[1m1s\u001b[0m 22ms/step - accuracy: 0.6231 - loss: 0.6516 - val_accuracy: 0.6122 - val_loss: 0.6538\n",
      "Epoch 8/10\n",
      "\u001b[1m47/47\u001b[0m \u001b[32m━━━━━━━━━━━━━━━━━━━━\u001b[0m\u001b[37m\u001b[0m \u001b[1m2s\u001b[0m 31ms/step - accuracy: 0.6324 - loss: 0.6458 - val_accuracy: 0.6160 - val_loss: 0.6559\n",
      "Epoch 9/10\n",
      "\u001b[1m47/47\u001b[0m \u001b[32m━━━━━━━━━━━━━━━━━━━━\u001b[0m\u001b[37m\u001b[0m \u001b[1m2s\u001b[0m 24ms/step - accuracy: 0.6198 - loss: 0.6494 - val_accuracy: 0.6160 - val_loss: 0.6477\n",
      "Epoch 10/10\n",
      "\u001b[1m47/47\u001b[0m \u001b[32m━━━━━━━━━━━━━━━━━━━━\u001b[0m\u001b[37m\u001b[0m \u001b[1m1s\u001b[0m 27ms/step - accuracy: 0.6046 - loss: 0.6566 - val_accuracy: 0.6122 - val_loss: 0.6548\n"
     ]
    }
   ],
   "source": [
    "### train algorithm \n",
    "history = RNN_model.fit(x_train,y_train,epochs=10,validation_data=(x_test,y_test))"
   ]
  },
  {
   "cell_type": "code",
   "execution_count": null,
   "id": "32707a5a-713b-440d-a847-8677ce988e04",
   "metadata": {},
   "outputs": [],
   "source": []
  },
  {
   "cell_type": "code",
   "execution_count": 124,
   "id": "707c279c-ed85-41a9-a720-cde9d5f6b497",
   "metadata": {},
   "outputs": [
    {
     "data": {
      "text/html": [
       "<pre style=\"white-space:pre;overflow-x:auto;line-height:normal;font-family:Menlo,'DejaVu Sans Mono',consolas,'Courier New',monospace\"><span style=\"font-weight: bold\">Model: \"sequential_11\"</span>\n",
       "</pre>\n"
      ],
      "text/plain": [
       "\u001b[1mModel: \"sequential_11\"\u001b[0m\n"
      ]
     },
     "metadata": {},
     "output_type": "display_data"
    },
    {
     "data": {
      "text/html": [
       "<pre style=\"white-space:pre;overflow-x:auto;line-height:normal;font-family:Menlo,'DejaVu Sans Mono',consolas,'Courier New',monospace\">┏━━━━━━━━━━━━━━━━━━━━━━━━━━━━━━━━━━━━━━┳━━━━━━━━━━━━━━━━━━━━━━━━━━━━━┳━━━━━━━━━━━━━━━━━┓\n",
       "┃<span style=\"font-weight: bold\"> Layer (type)                         </span>┃<span style=\"font-weight: bold\"> Output Shape                </span>┃<span style=\"font-weight: bold\">         Param # </span>┃\n",
       "┡━━━━━━━━━━━━━━━━━━━━━━━━━━━━━━━━━━━━━━╇━━━━━━━━━━━━━━━━━━━━━━━━━━━━━╇━━━━━━━━━━━━━━━━━┩\n",
       "│ lstm_9 (<span style=\"color: #0087ff; text-decoration-color: #0087ff\">LSTM</span>)                        │ (<span style=\"color: #00d7ff; text-decoration-color: #00d7ff\">None</span>, <span style=\"color: #00af00; text-decoration-color: #00af00\">64</span>)                  │          <span style=\"color: #00af00; text-decoration-color: #00af00\">16,896</span> │\n",
       "├──────────────────────────────────────┼─────────────────────────────┼─────────────────┤\n",
       "│ dense_10 (<span style=\"color: #0087ff; text-decoration-color: #0087ff\">Dense</span>)                     │ (<span style=\"color: #00d7ff; text-decoration-color: #00d7ff\">None</span>, <span style=\"color: #00af00; text-decoration-color: #00af00\">1</span>)                   │              <span style=\"color: #00af00; text-decoration-color: #00af00\">65</span> │\n",
       "└──────────────────────────────────────┴─────────────────────────────┴─────────────────┘\n",
       "</pre>\n"
      ],
      "text/plain": [
       "┏━━━━━━━━━━━━━━━━━━━━━━━━━━━━━━━━━━━━━━┳━━━━━━━━━━━━━━━━━━━━━━━━━━━━━┳━━━━━━━━━━━━━━━━━┓\n",
       "┃\u001b[1m \u001b[0m\u001b[1mLayer (type)                        \u001b[0m\u001b[1m \u001b[0m┃\u001b[1m \u001b[0m\u001b[1mOutput Shape               \u001b[0m\u001b[1m \u001b[0m┃\u001b[1m \u001b[0m\u001b[1m        Param #\u001b[0m\u001b[1m \u001b[0m┃\n",
       "┡━━━━━━━━━━━━━━━━━━━━━━━━━━━━━━━━━━━━━━╇━━━━━━━━━━━━━━━━━━━━━━━━━━━━━╇━━━━━━━━━━━━━━━━━┩\n",
       "│ lstm_9 (\u001b[38;5;33mLSTM\u001b[0m)                        │ (\u001b[38;5;45mNone\u001b[0m, \u001b[38;5;34m64\u001b[0m)                  │          \u001b[38;5;34m16,896\u001b[0m │\n",
       "├──────────────────────────────────────┼─────────────────────────────┼─────────────────┤\n",
       "│ dense_10 (\u001b[38;5;33mDense\u001b[0m)                     │ (\u001b[38;5;45mNone\u001b[0m, \u001b[38;5;34m1\u001b[0m)                   │              \u001b[38;5;34m65\u001b[0m │\n",
       "└──────────────────────────────────────┴─────────────────────────────┴─────────────────┘\n"
      ]
     },
     "metadata": {},
     "output_type": "display_data"
    },
    {
     "data": {
      "text/html": [
       "<pre style=\"white-space:pre;overflow-x:auto;line-height:normal;font-family:Menlo,'DejaVu Sans Mono',consolas,'Courier New',monospace\"><span style=\"font-weight: bold\"> Total params: </span><span style=\"color: #00af00; text-decoration-color: #00af00\">16,961</span> (66.25 KB)\n",
       "</pre>\n"
      ],
      "text/plain": [
       "\u001b[1m Total params: \u001b[0m\u001b[38;5;34m16,961\u001b[0m (66.25 KB)\n"
      ]
     },
     "metadata": {},
     "output_type": "display_data"
    },
    {
     "data": {
      "text/html": [
       "<pre style=\"white-space:pre;overflow-x:auto;line-height:normal;font-family:Menlo,'DejaVu Sans Mono',consolas,'Courier New',monospace\"><span style=\"font-weight: bold\"> Trainable params: </span><span style=\"color: #00af00; text-decoration-color: #00af00\">16,961</span> (66.25 KB)\n",
       "</pre>\n"
      ],
      "text/plain": [
       "\u001b[1m Trainable params: \u001b[0m\u001b[38;5;34m16,961\u001b[0m (66.25 KB)\n"
      ]
     },
     "metadata": {},
     "output_type": "display_data"
    },
    {
     "data": {
      "text/html": [
       "<pre style=\"white-space:pre;overflow-x:auto;line-height:normal;font-family:Menlo,'DejaVu Sans Mono',consolas,'Courier New',monospace\"><span style=\"font-weight: bold\"> Non-trainable params: </span><span style=\"color: #00af00; text-decoration-color: #00af00\">0</span> (0.00 B)\n",
       "</pre>\n"
      ],
      "text/plain": [
       "\u001b[1m Non-trainable params: \u001b[0m\u001b[38;5;34m0\u001b[0m (0.00 B)\n"
      ]
     },
     "metadata": {},
     "output_type": "display_data"
    }
   ],
   "source": [
    "# LSTM model Define the model\n",
    "lstm_model = Sequential([\n",
    "    LSTM(units=64, input_shape=(80, 1), return_sequences=False),\n",
    "    Dense(units=1, activation='sigmoid')\n",
    "])\n",
    "lstm_model.compile(optimizer='adam', loss='binary_crossentropy', metrics=['accuracy'])\n",
    "lstm_model.summary()"
   ]
  },
  {
   "cell_type": "code",
   "execution_count": 126,
   "id": "f1f4aed9-ae05-4ea0-b03a-0a972a01c232",
   "metadata": {},
   "outputs": [
    {
     "name": "stdout",
     "output_type": "stream",
     "text": [
      "Epoch 1/7\n",
      "\u001b[1m47/47\u001b[0m \u001b[32m━━━━━━━━━━━━━━━━━━━━\u001b[0m\u001b[37m\u001b[0m \u001b[1m2s\u001b[0m 40ms/step - accuracy: 0.8586 - loss: 0.3532 - val_accuracy: 0.8099 - val_loss: 0.4079\n",
      "Epoch 2/7\n",
      "\u001b[1m47/47\u001b[0m \u001b[32m━━━━━━━━━━━━━━━━━━━━\u001b[0m\u001b[37m\u001b[0m \u001b[1m2s\u001b[0m 38ms/step - accuracy: 0.8526 - loss: 0.3369 - val_accuracy: 0.8175 - val_loss: 0.4011\n",
      "Epoch 3/7\n",
      "\u001b[1m47/47\u001b[0m \u001b[32m━━━━━━━━━━━━━━━━━━━━\u001b[0m\u001b[37m\u001b[0m \u001b[1m2s\u001b[0m 38ms/step - accuracy: 0.8599 - loss: 0.3297 - val_accuracy: 0.8251 - val_loss: 0.3951\n",
      "Epoch 4/7\n",
      "\u001b[1m47/47\u001b[0m \u001b[32m━━━━━━━━━━━━━━━━━━━━\u001b[0m\u001b[37m\u001b[0m \u001b[1m2s\u001b[0m 39ms/step - accuracy: 0.8738 - loss: 0.3043 - val_accuracy: 0.8137 - val_loss: 0.3995\n",
      "Epoch 5/7\n",
      "\u001b[1m47/47\u001b[0m \u001b[32m━━━━━━━━━━━━━━━━━━━━\u001b[0m\u001b[37m\u001b[0m \u001b[1m2s\u001b[0m 49ms/step - accuracy: 0.8739 - loss: 0.3101 - val_accuracy: 0.8213 - val_loss: 0.3980\n",
      "Epoch 6/7\n",
      "\u001b[1m47/47\u001b[0m \u001b[32m━━━━━━━━━━━━━━━━━━━━\u001b[0m\u001b[37m\u001b[0m \u001b[1m2s\u001b[0m 50ms/step - accuracy: 0.8664 - loss: 0.3289 - val_accuracy: 0.8175 - val_loss: 0.4022\n",
      "Epoch 7/7\n",
      "\u001b[1m47/47\u001b[0m \u001b[32m━━━━━━━━━━━━━━━━━━━━\u001b[0m\u001b[37m\u001b[0m \u001b[1m2s\u001b[0m 44ms/step - accuracy: 0.8599 - loss: 0.3322 - val_accuracy: 0.8213 - val_loss: 0.3898\n"
     ]
    }
   ],
   "source": [
    "history2 = lstm_model.fit(x_train,y_train, epochs=7,validation_data=(x_test,y_test))\n"
   ]
  },
  {
   "cell_type": "code",
   "execution_count": 130,
   "id": "f7e8d559-8319-4d63-998f-0611feb91158",
   "metadata": {},
   "outputs": [
    {
     "name": "stdout",
     "output_type": "stream",
     "text": [
      "score : \n",
      "Training score :  0.7998652291105122\n",
      "Training score :  0.7984790874524715\n"
     ]
    }
   ],
   "source": [
    "### Machine learning algorithm \n",
    "from sklearn.naive_bayes import BernoulliNB   ## text classification \n",
    "bayes = BernoulliNB()\n",
    "bayes.fit(x_train,y_train)\n",
    "\n",
    "\n",
    "print(\"score : \")\n",
    "print(\"Training score : \",bayes.score(x_train,y_train))\n",
    "print(\"Training score : \",bayes.score(x_test,y_test))\n"
   ]
  },
  {
   "cell_type": "code",
   "execution_count": 131,
   "id": "b727495e-9d7b-4bb1-99c4-5ca8d5e35e5b",
   "metadata": {},
   "outputs": [
    {
     "name": "stdout",
     "output_type": "stream",
     "text": [
      "score : \n",
      "Training score :  0.7392183288409704\n",
      "Training score :  0.7072243346007605\n"
     ]
    }
   ],
   "source": [
    "### Machine learning algorithm \n",
    "from sklearn.naive_bayes import MultinomialNB   ## text classification \n",
    "bayes2 = MultinomialNB()\n",
    "bayes2.fit(x_train,y_train)\n",
    "\n",
    "\n",
    "print(\"score : \")\n",
    "print(\"Training score : \",bayes2.score(x_train,y_train))\n",
    "print(\"Training score : \",bayes2.score(x_test,y_test))\n"
   ]
  },
  {
   "cell_type": "code",
   "execution_count": 132,
   "id": "49ee8135-3533-4e8a-aee7-1d5215e387d0",
   "metadata": {},
   "outputs": [
    {
     "name": "stdout",
     "output_type": "stream",
     "text": [
      "\u001b[1m9/9\u001b[0m \u001b[32m━━━━━━━━━━━━━━━━━━━━\u001b[0m\u001b[37m\u001b[0m \u001b[1m1s\u001b[0m 67ms/step\n"
     ]
    }
   ],
   "source": [
    "### prediction \n",
    "pred = lstm_model.predict(x_test)"
   ]
  },
  {
   "cell_type": "code",
   "execution_count": 137,
   "id": "c6abd298-24cd-41e1-8c97-90eb447be75c",
   "metadata": {},
   "outputs": [],
   "source": [
    "predictions = ((pred > 0.5 ).astype(int)).ravel()"
   ]
  },
  {
   "cell_type": "code",
   "execution_count": 139,
   "id": "e8fc2b84-3475-4cf3-a5f2-6415805843ef",
   "metadata": {},
   "outputs": [],
   "source": [
    "compare_df = pd.DataFrame({'actual':y_test,'prediction':predictions})"
   ]
  },
  {
   "cell_type": "code",
   "execution_count": 142,
   "id": "67431ca8-bc6e-4cb8-8ee0-68e722ffbabe",
   "metadata": {},
   "outputs": [],
   "source": [
    "# compare_df.head(40)\n",
    "from sklearn.metrics import confusion_matrix,classification_report \n"
   ]
  },
  {
   "cell_type": "code",
   "execution_count": 143,
   "id": "b25c1bf2-b987-4976-88c2-8894e1ac0b7d",
   "metadata": {},
   "outputs": [
    {
     "data": {
      "text/plain": [
       "array([[127,  18],\n",
       "       [ 29,  89]], dtype=int64)"
      ]
     },
     "execution_count": 143,
     "metadata": {},
     "output_type": "execute_result"
    }
   ],
   "source": [
    "confusion_matrix(compare_df['actual'],compare_df['prediction'])"
   ]
  },
  {
   "cell_type": "code",
   "execution_count": 145,
   "id": "e1027b03-aaee-49af-a98e-ed1ef9e39f0f",
   "metadata": {},
   "outputs": [
    {
     "name": "stdout",
     "output_type": "stream",
     "text": [
      "              precision    recall  f1-score   support\n",
      "\n",
      "           0       0.81      0.88      0.84       145\n",
      "           1       0.83      0.75      0.79       118\n",
      "\n",
      "    accuracy                           0.82       263\n",
      "   macro avg       0.82      0.82      0.82       263\n",
      "weighted avg       0.82      0.82      0.82       263\n",
      "\n"
     ]
    }
   ],
   "source": [
    "print(classification_report(compare_df['actual'],compare_df['prediction']))"
   ]
  },
  {
   "cell_type": "code",
   "execution_count": null,
   "id": "322514b5-70a9-4952-a439-0eb6f55177b9",
   "metadata": {},
   "outputs": [],
   "source": []
  },
  {
   "cell_type": "code",
   "execution_count": null,
   "id": "58361272-0a2d-40a1-9960-3026bd4ae5b7",
   "metadata": {},
   "outputs": [],
   "source": []
  }
 ],
 "metadata": {
  "kernelspec": {
   "display_name": "Python 3 (ipykernel)",
   "language": "python",
   "name": "python3"
  },
  "language_info": {
   "codemirror_mode": {
    "name": "ipython",
    "version": 3
   },
   "file_extension": ".py",
   "mimetype": "text/x-python",
   "name": "python",
   "nbconvert_exporter": "python",
   "pygments_lexer": "ipython3",
   "version": "3.12.4"
  }
 },
 "nbformat": 4,
 "nbformat_minor": 5
}
