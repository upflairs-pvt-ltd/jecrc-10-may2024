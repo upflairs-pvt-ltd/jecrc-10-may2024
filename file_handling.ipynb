{
 "cells": [
  {
   "cell_type": "markdown",
   "id": "b23a859e-1556-4ac7-9245-ae2f8125b40f",
   "metadata": {},
   "source": [
    "### FILE HANDLING "
   ]
  },
  {
   "cell_type": "code",
   "execution_count": 4,
   "id": "e5323a46-9771-4b1a-abfb-f17935a6b0ad",
   "metadata": {},
   "outputs": [],
   "source": [
    "file = open('test.txt' , 'x' )\n"
   ]
  },
  {
   "cell_type": "code",
   "execution_count": 5,
   "id": "bc7d5f02-665a-460a-8850-f58b538fa49d",
   "metadata": {},
   "outputs": [],
   "source": [
    "file = open('test.txt' , 'w' )\n",
    "message = \"\"\"\n",
    "we are from jecrc foundation, and we are learning\n",
    "about python file handling.\n",
    "\"\"\"\n",
    "file.write(message)\n",
    "file.close()"
   ]
  },
  {
   "cell_type": "code",
   "execution_count": null,
   "id": "c180cb2a-d5dc-4612-99ce-7a018d41c6ff",
   "metadata": {},
   "outputs": [],
   "source": [
    "file = open('test.txt','r')\n",
    "message = file.read()\n",
    "print(message)"
   ]
  },
  {
   "cell_type": "code",
   "execution_count": 9,
   "id": "65d53e33-3ac2-4fc3-8b31-4013be66cdb6",
   "metadata": {},
   "outputs": [
    {
     "name": "stdout",
     "output_type": "stream",
     "text": [
      "\n",
      "we are from jecrc foundation, and we are learning\n",
      "about python file handling.\n",
      "\n"
     ]
    }
   ],
   "source": [
    "file = open('test.txt')\n",
    "message = file.read()\n",
    "print(message)"
   ]
  },
  {
   "cell_type": "code",
   "execution_count": 17,
   "id": "311fec6b-943e-4801-8348-b14dde41e642",
   "metadata": {},
   "outputs": [],
   "source": [
    "file = open('demo.txt' , 'w' )\n",
    "message = \"\"\"\n",
    "we are from jecrc foundation, and we are learning\n",
    "about python file handling.\n",
    "\"\"\"\n",
    "file.write(message)\n",
    "file.close()\n",
    "\n",
    "#clear old data and then write "
   ]
  },
  {
   "cell_type": "code",
   "execution_count": 23,
   "id": "e51a52be-a221-4fe6-95db-645f5552e836",
   "metadata": {},
   "outputs": [],
   "source": [
    "file = open('demo.txt' , 'a' )  # a==> append \n",
    "message = \"\"\"\n",
    "we are from jecrc foundation, and we are learning\n",
    "about python file handling \\n. \n",
    "\"\"\"\n",
    "file.write(message)\n",
    "file.close()\n"
   ]
  },
  {
   "cell_type": "code",
   "execution_count": 26,
   "id": "e710f0dc-a33e-43e9-84ab-d92b1ea3fb56",
   "metadata": {},
   "outputs": [
    {
     "name": "stdout",
     "output_type": "stream",
     "text": [
      "\n",
      "we are from jecrc founda\n"
     ]
    }
   ],
   "source": [
    "with open('demo.txt') as file: \n",
    "    data = file.read(25)\n",
    "    print(data) "
   ]
  },
  {
   "cell_type": "code",
   "execution_count": 27,
   "id": "eac8d6ac-bf33-4009-95d9-e3ec46feaf01",
   "metadata": {},
   "outputs": [
    {
     "name": "stdout",
     "output_type": "stream",
     "text": [
      "\n",
      "we are from jecrc founda\n"
     ]
    }
   ],
   "source": [
    "file = open('demo.txt','r')\n",
    "data = file.read(25)\n",
    "print(data) "
   ]
  },
  {
   "cell_type": "code",
   "execution_count": 28,
   "id": "0e697038-4483-4d03-82f5-899e47b2b779",
   "metadata": {},
   "outputs": [
    {
     "name": "stdout",
     "output_type": "stream",
     "text": [
      "tion, and we are learning\n"
     ]
    }
   ],
   "source": [
    "message = file.read(25)\n",
    "print(message)"
   ]
  },
  {
   "cell_type": "code",
   "execution_count": 29,
   "id": "d61db45b-e195-433a-87bb-2287ba22fa06",
   "metadata": {},
   "outputs": [
    {
     "name": "stdout",
     "output_type": "stream",
     "text": [
      "\n",
      "about python file handli\n"
     ]
    }
   ],
   "source": [
    "message = file.read(25)\n",
    "print(message)"
   ]
  },
  {
   "cell_type": "code",
   "execution_count": 30,
   "id": "5f62b42f-cc71-494f-98c1-8f1a49a5c0b8",
   "metadata": {},
   "outputs": [
    {
     "name": "stdout",
     "output_type": "stream",
     "text": [
      "ng.\n",
      "\n",
      "we are from jecrc fo\n"
     ]
    }
   ],
   "source": [
    "message = file.read(25)\n",
    "print(message)"
   ]
  },
  {
   "cell_type": "code",
   "execution_count": 32,
   "id": "3a2b2c4b-fc64-49df-a55b-343294ee001f",
   "metadata": {},
   "outputs": [
    {
     "name": "stdout",
     "output_type": "stream",
     "text": [
      "21\n"
     ]
    }
   ],
   "source": [
    "with open('demo.txt','r') as file: \n",
    "    data = file.readlines()\n",
    "    print(len(data)) "
   ]
  },
  {
   "cell_type": "code",
   "execution_count": 34,
   "id": "3b867d2c-3dbf-45c7-bc8d-d5b9fbbd4f00",
   "metadata": {},
   "outputs": [],
   "source": [
    "message = \"\"\"\n",
    "we are from jecrc foundation, and we are learning\n",
    "about python file handling. 😊😊😊😊\n",
    "\"\"\"\n",
    "file = open('jecrc.txt','w',encoding='utf-8')\n",
    "file.write(message)\n",
    "file.close()"
   ]
  },
  {
   "cell_type": "markdown",
   "id": "85f51699-39b8-4dd2-a84b-04e644bf52c4",
   "metadata": {},
   "source": [
    "### EXCEPTION HANDLING \n",
    "\n",
    "try , except , else , finally , "
   ]
  },
  {
   "cell_type": "code",
   "execution_count": 47,
   "id": "b13a8eec-99db-46e2-b005-94109a5d3a30",
   "metadata": {},
   "outputs": [
    {
     "name": "stdin",
     "output_type": "stream",
     "text": [
      "plz write your age  :  hfjhfj\n"
     ]
    },
    {
     "name": "stdout",
     "output_type": "stream",
     "text": [
      "pls enter valid input \n",
      "still i am alive\n"
     ]
    }
   ],
   "source": [
    "try:\n",
    "    age = int(input(\"plz write your age  : \"))\n",
    "    print('i am  : ',age,' year', 'old')\n",
    "\n",
    "except:\n",
    "    print(\"pls enter valid input \")\n",
    "\n",
    "else:\n",
    "    print('hiii from esle')\n",
    "\n",
    "finally:\n",
    "    print('i will run always ')\n",
    "\n",
    "print('still i am alive')"
   ]
  },
  {
   "cell_type": "code",
   "execution_count": 48,
   "id": "6c058d47-e5db-4089-9d43-e1b2fe658d89",
   "metadata": {},
   "outputs": [
    {
     "name": "stdin",
     "output_type": "stream",
     "text": [
      "plz write your age  :  hhgj\n"
     ]
    },
    {
     "ename": "ValueError",
     "evalue": "invalid literal for int() with base 10: 'hhgj'",
     "output_type": "error",
     "traceback": [
      "\u001b[1;31m---------------------------------------------------------------------------\u001b[0m",
      "\u001b[1;31mValueError\u001b[0m                                Traceback (most recent call last)",
      "Cell \u001b[1;32mIn[48], line 1\u001b[0m\n\u001b[1;32m----> 1\u001b[0m age \u001b[38;5;241m=\u001b[39m \u001b[38;5;28;43mint\u001b[39;49m\u001b[43m(\u001b[49m\u001b[38;5;28;43minput\u001b[39;49m\u001b[43m(\u001b[49m\u001b[38;5;124;43m\"\u001b[39;49m\u001b[38;5;124;43mplz write your age  : \u001b[39;49m\u001b[38;5;124;43m\"\u001b[39;49m\u001b[43m)\u001b[49m\u001b[43m)\u001b[49m\n\u001b[0;32m      2\u001b[0m \u001b[38;5;28mprint\u001b[39m(\u001b[38;5;124m'\u001b[39m\u001b[38;5;124mi am  : \u001b[39m\u001b[38;5;124m'\u001b[39m,age,\u001b[38;5;124m'\u001b[39m\u001b[38;5;124m year\u001b[39m\u001b[38;5;124m'\u001b[39m, \u001b[38;5;124m'\u001b[39m\u001b[38;5;124mold\u001b[39m\u001b[38;5;124m'\u001b[39m)\n",
      "\u001b[1;31mValueError\u001b[0m: invalid literal for int() with base 10: 'hhgj'"
     ]
    }
   ],
   "source": [
    "age = int(input(\"plz write your age  : \"))\n",
    "print('i am  : ',age,' year', 'old')"
   ]
  },
  {
   "cell_type": "code",
   "execution_count": 50,
   "id": "5f3d797f-173c-4db7-935f-92e40e6675d6",
   "metadata": {},
   "outputs": [
    {
     "name": "stdin",
     "output_type": "stream",
     "text": [
      "enter first number :  55\n",
      "enter second number :  0\n"
     ]
    },
    {
     "ename": "ZeroDivisionError",
     "evalue": "division by zero",
     "output_type": "error",
     "traceback": [
      "\u001b[1;31m---------------------------------------------------------------------------\u001b[0m",
      "\u001b[1;31mZeroDivisionError\u001b[0m                         Traceback (most recent call last)",
      "Cell \u001b[1;32mIn[50], line 3\u001b[0m\n\u001b[0;32m      1\u001b[0m num1 \u001b[38;5;241m=\u001b[39m \u001b[38;5;28mint\u001b[39m(\u001b[38;5;28minput\u001b[39m(\u001b[38;5;124m'\u001b[39m\u001b[38;5;124menter first number : \u001b[39m\u001b[38;5;124m'\u001b[39m))\n\u001b[0;32m      2\u001b[0m num2 \u001b[38;5;241m=\u001b[39m \u001b[38;5;28mint\u001b[39m(\u001b[38;5;28minput\u001b[39m(\u001b[38;5;124m'\u001b[39m\u001b[38;5;124menter second number : \u001b[39m\u001b[38;5;124m'\u001b[39m))\n\u001b[1;32m----> 3\u001b[0m result \u001b[38;5;241m=\u001b[39m \u001b[43mnum1\u001b[49m\u001b[43m \u001b[49m\u001b[38;5;241;43m/\u001b[39;49m\u001b[43m \u001b[49m\u001b[43mnum2\u001b[49m\n\u001b[0;32m      4\u001b[0m \u001b[38;5;28mprint\u001b[39m(result) \n",
      "\u001b[1;31mZeroDivisionError\u001b[0m: division by zero"
     ]
    }
   ],
   "source": [
    "try:\n",
    "    num1 = int(input('enter first number : '))\n",
    "    num2 = int(input('enter second number : '))\n",
    "    result = num1 / num2\n",
    "    print(result) \n",
    "except ZeroDivisionError: \n",
    "    print(\"plz dont insert zero\") \n",
    "\n",
    "except ValueError:\n",
    "    print('plz pass valid input ')"
   ]
  }
 ],
 "metadata": {
  "kernelspec": {
   "display_name": "Python 3 (ipykernel)",
   "language": "python",
   "name": "python3"
  },
  "language_info": {
   "codemirror_mode": {
    "name": "ipython",
    "version": 3
   },
   "file_extension": ".py",
   "mimetype": "text/x-python",
   "name": "python",
   "nbconvert_exporter": "python",
   "pygments_lexer": "ipython3",
   "version": "3.11.5"
  }
 },
 "nbformat": 4,
 "nbformat_minor": 5
}
