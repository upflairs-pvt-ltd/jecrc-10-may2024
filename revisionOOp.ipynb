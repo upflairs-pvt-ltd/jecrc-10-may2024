{
 "cells": [
  {
   "cell_type": "code",
   "execution_count": 10,
   "metadata": {},
   "outputs": [
    {
     "name": "stdout",
     "output_type": "stream",
     "text": [
      "constructor executed!\n",
      "constructor executed!\n"
     ]
    }
   ],
   "source": [
    "class Student: \n",
    "    def __init__(self,name,branch,roll):   # constructor is special type of function \n",
    "        self.student_name = name \n",
    "        self.student_branch = branch\n",
    "        self.student_roll_no = roll\n",
    "        print('constructor executed!')\n",
    "\n",
    "\n",
    "obj1 = Student(name='tishika',branch='cse',roll=101) \n",
    "obj2 = Student(name='harshit',branch='it',roll=102) \n",
    "\n"
   ]
  },
  {
   "cell_type": "code",
   "execution_count": 18,
   "metadata": {},
   "outputs": [
    {
     "name": "stdout",
     "output_type": "stream",
     "text": [
      "tishika\n"
     ]
    }
   ],
   "source": [
    "print(obj1.student_name)\n"
   ]
  },
  {
   "cell_type": "code",
   "execution_count": 19,
   "metadata": {},
   "outputs": [],
   "source": [
    "obj1.student_name = \"sahil\" "
   ]
  },
  {
   "cell_type": "code",
   "execution_count": 21,
   "metadata": {},
   "outputs": [
    {
     "name": "stdout",
     "output_type": "stream",
     "text": [
      "harshit\n"
     ]
    }
   ],
   "source": [
    "print(obj2.student_name)"
   ]
  },
  {
   "cell_type": "code",
   "execution_count": 16,
   "metadata": {},
   "outputs": [],
   "source": [
    "name = \"raja\""
   ]
  },
  {
   "cell_type": "code",
   "execution_count": 17,
   "metadata": {},
   "outputs": [
    {
     "data": {
      "text/plain": [
       "'raja'"
      ]
     },
     "execution_count": 17,
     "metadata": {},
     "output_type": "execute_result"
    }
   ],
   "source": [
    "name "
   ]
  },
  {
   "cell_type": "code",
   "execution_count": 38,
   "metadata": {},
   "outputs": [
    {
     "name": "stdout",
     "output_type": "stream",
     "text": [
      "constructor executed!\n",
      "constructor executed!\n"
     ]
    }
   ],
   "source": [
    "class Student: \n",
    "    college = \"jecrc\"\n",
    "    def __init__(self,name,branch,roll):   # constructor is special type of function \n",
    "        self.student_name = name \n",
    "        self.student_branch = branch\n",
    "        self.student_roll_no = roll\n",
    "        print('constructor executed!')\n",
    "\n",
    "    def display(hello): \n",
    "        print(hello.student_name)  # obj.student_name \n",
    "        print(hello.student_branch)  # obj.student_branch \n",
    "        print(hello.student_roll_no)  # obj.student_roll_no\n",
    "\n",
    "\n",
    "\n",
    "\n",
    "\n",
    "obj1 = Student(name='tishika',branch='cse',roll=101) \n",
    "obj2 = Student(name='harshit',branch='it',roll=102) \n",
    "\n"
   ]
  },
  {
   "cell_type": "code",
   "execution_count": 40,
   "metadata": {},
   "outputs": [
    {
     "data": {
      "text/plain": [
       "'jecrc'"
      ]
     },
     "execution_count": 40,
     "metadata": {},
     "output_type": "execute_result"
    }
   ],
   "source": [
    "obj1.college"
   ]
  },
  {
   "cell_type": "code",
   "execution_count": 36,
   "metadata": {},
   "outputs": [
    {
     "name": "stdout",
     "output_type": "stream",
     "text": [
      "jecrc\n"
     ]
    }
   ],
   "source": [
    "print(Student.college)"
   ]
  },
  {
   "cell_type": "code",
   "execution_count": 37,
   "metadata": {},
   "outputs": [
    {
     "ename": "AttributeError",
     "evalue": "type object 'Student' has no attribute 'student_name'",
     "output_type": "error",
     "traceback": [
      "\u001b[1;31m---------------------------------------------------------------------------\u001b[0m",
      "\u001b[1;31mAttributeError\u001b[0m                            Traceback (most recent call last)",
      "Cell \u001b[1;32mIn[37], line 1\u001b[0m\n\u001b[1;32m----> 1\u001b[0m \u001b[38;5;28mprint\u001b[39m(\u001b[43mStudent\u001b[49m\u001b[38;5;241;43m.\u001b[39;49m\u001b[43mstudent_name\u001b[49m)\n",
      "\u001b[1;31mAttributeError\u001b[0m: type object 'Student' has no attribute 'student_name'"
     ]
    }
   ],
   "source": [
    "print(Student.student_name)"
   ]
  },
  {
   "cell_type": "code",
   "execution_count": 33,
   "metadata": {},
   "outputs": [
    {
     "name": "stdout",
     "output_type": "stream",
     "text": [
      "harshit\n",
      "it\n",
      "102\n"
     ]
    }
   ],
   "source": [
    "obj2.display()"
   ]
  },
  {
   "cell_type": "code",
   "execution_count": null,
   "metadata": {},
   "outputs": [],
   "source": [
    "class Average: \n",
    "    def __init__(self):\n",
    "        self.student_name = \"Rahul\" \n",
    "        self.score = [25,26,24,23,28,29,24]\n",
    "\n",
    "    def average_finder(self): \n",
    "        "
   ]
  }
 ],
 "metadata": {
  "kernelspec": {
   "display_name": "Python 3",
   "language": "python",
   "name": "python3"
  },
  "language_info": {
   "codemirror_mode": {
    "name": "ipython",
    "version": 3
   },
   "file_extension": ".py",
   "mimetype": "text/x-python",
   "name": "python",
   "nbconvert_exporter": "python",
   "pygments_lexer": "ipython3",
   "version": "3.12.4"
  }
 },
 "nbformat": 4,
 "nbformat_minor": 2
}
