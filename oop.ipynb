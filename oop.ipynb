{
 "cells": [
  {
   "cell_type": "markdown",
   "id": "6fa92ea7-a21a-4218-b6e1-c98066312581",
   "metadata": {},
   "source": [
    "### Oop programing "
   ]
  },
  {
   "cell_type": "code",
   "execution_count": 1,
   "id": "3c55ace3-8f64-4033-9c05-34cd7ce4edee",
   "metadata": {},
   "outputs": [],
   "source": [
    "import os "
   ]
  },
  {
   "cell_type": "code",
   "execution_count": 2,
   "id": "3333ef1e-150a-4354-a8ef-0bb3033648fe",
   "metadata": {},
   "outputs": [
    {
     "data": {
      "text/plain": [
       "'C:\\\\Users\\\\Ranjit\\\\Desktop\\\\jecrc-10-may2024'"
      ]
     },
     "execution_count": 2,
     "metadata": {},
     "output_type": "execute_result"
    }
   ],
   "source": [
    "pwd "
   ]
  },
  {
   "cell_type": "code",
   "execution_count": 3,
   "id": "b1217b92-80e9-41c6-b9a6-c79845b4a64f",
   "metadata": {},
   "outputs": [
    {
     "data": {
      "text/plain": [
       "'C:\\\\Users\\\\Ranjit\\\\Desktop\\\\jecrc-10-may2024'"
      ]
     },
     "execution_count": 3,
     "metadata": {},
     "output_type": "execute_result"
    }
   ],
   "source": [
    "os.getcwd()"
   ]
  },
  {
   "cell_type": "code",
   "execution_count": 4,
   "id": "9f2f5bde-cfa9-4f85-8853-df44c9090684",
   "metadata": {},
   "outputs": [
    {
     "name": "stdout",
     "output_type": "stream",
     "text": [
      " Volume in drive C has no label.\n",
      " Volume Serial Number is 9C35-B5F9\n",
      "\n",
      " Directory of C:\\Users\\Ranjit\\Desktop\\jecrc-10-may2024\n",
      "\n",
      "21-05-2024  10:56    <DIR>          .\n",
      "21-05-2024  10:56    <DIR>          ..\n",
      "21-05-2024  10:50    <DIR>          .ipynb_checkpoints\n",
      "11-05-2024  11:15    <DIR>          .vscode\n",
      "18-05-2024  12:27    <DIR>          __pycache__\n",
      "16-05-2024  11:50             1,474 atm_simulation.py\n",
      "11-05-2024  12:33             1,118 day_2.py\n",
      "18-05-2024  10:44             5,361 day_5_loop.ipynb\n",
      "11-05-2024  11:02               117 day-1.py\n",
      "13-05-2024  12:24             1,444 day-3.py\n",
      "15-05-2024  15:23             1,802 day5.py\n",
      "18-05-2024  12:11             1,042 day8.py\n",
      "20-05-2024  11:36               580 demo.txt\n",
      "20-05-2024  12:34             9,882 file_handling.ipynb\n",
      "18-05-2024  12:30               411 hello.py\n",
      "20-05-2024  11:10                16 hello.txt\n",
      "20-05-2024  11:57                99 jecrc.txt\n",
      "21-05-2024  10:56             1,364 oop.ipynb\n",
      "13-05-2024  16:20                18 README.md\n",
      "18-05-2024  12:31                39 test.py\n",
      "20-05-2024  11:22                82 test.txt\n",
      "              16 File(s)         24,849 bytes\n",
      "               5 Dir(s)  29,663,592,448 bytes free\n"
     ]
    }
   ],
   "source": [
    "ls "
   ]
  },
  {
   "cell_type": "code",
   "execution_count": 5,
   "id": "dc674820-a7ce-4d2e-ba48-bb9e8dcb0ad8",
   "metadata": {},
   "outputs": [
    {
     "data": {
      "text/plain": [
       "['.git',\n",
       " '.ipynb_checkpoints',\n",
       " '.vscode',\n",
       " 'atm_simulation.py',\n",
       " 'day-1.py',\n",
       " 'day-3.py',\n",
       " 'day5.py',\n",
       " 'day8.py',\n",
       " 'day_2.py',\n",
       " 'day_5_loop.ipynb',\n",
       " 'demo.txt',\n",
       " 'file_handling.ipynb',\n",
       " 'hello.py',\n",
       " 'hello.txt',\n",
       " 'jecrc.txt',\n",
       " 'oop.ipynb',\n",
       " 'README.md',\n",
       " 'test.py',\n",
       " 'test.txt',\n",
       " '__pycache__']"
      ]
     },
     "execution_count": 5,
     "metadata": {},
     "output_type": "execute_result"
    }
   ],
   "source": [
    "# ls , dir  \n",
    "os.listdir()"
   ]
  },
  {
   "cell_type": "code",
   "execution_count": 8,
   "id": "67344b62-3cc9-4f1f-b27c-529e4b13837c",
   "metadata": {},
   "outputs": [],
   "source": [
    "os.listdir(\"E:\\HD images\") # return current working directory "
   ]
  },
  {
   "cell_type": "code",
   "execution_count": null,
   "id": "7d1e569d-db40-402d-b2c6-fccf25687ef1",
   "metadata": {},
   "outputs": [],
   "source": [
    "# os.chdir()"
   ]
  },
  {
   "cell_type": "code",
   "execution_count": 12,
   "id": "3dcdb48e-df98-4239-953e-4c4f2078747f",
   "metadata": {},
   "outputs": [
    {
     "ename": "FileExistsError",
     "evalue": "[WinError 183] Cannot create a file when that file already exists: 'testing'",
     "output_type": "error",
     "traceback": [
      "\u001b[1;31m---------------------------------------------------------------------------\u001b[0m",
      "\u001b[1;31mFileExistsError\u001b[0m                           Traceback (most recent call last)",
      "Cell \u001b[1;32mIn[12], line 2\u001b[0m\n\u001b[0;32m      1\u001b[0m \u001b[38;5;66;03m# mkdir testing  \u001b[39;00m\n\u001b[1;32m----> 2\u001b[0m \u001b[43mos\u001b[49m\u001b[38;5;241;43m.\u001b[39;49m\u001b[43mmkdir\u001b[49m\u001b[43m(\u001b[49m\u001b[38;5;124;43m'\u001b[39;49m\u001b[38;5;124;43mtesting\u001b[39;49m\u001b[38;5;124;43m'\u001b[39;49m\u001b[43m)\u001b[49m\n",
      "\u001b[1;31mFileExistsError\u001b[0m: [WinError 183] Cannot create a file when that file already exists: 'testing'"
     ]
    }
   ],
   "source": [
    "# mkdir testing  \n",
    "os.mkdir('testing')"
   ]
  },
  {
   "cell_type": "code",
   "execution_count": 18,
   "id": "c701b629-3e38-461a-b412-9377e3376edd",
   "metadata": {},
   "outputs": [],
   "source": [
    "os.makedirs('testing',exist_ok=True)"
   ]
  },
  {
   "cell_type": "code",
   "execution_count": 19,
   "id": "978e4956-4624-47eb-9df5-7681bd12e53e",
   "metadata": {},
   "outputs": [
    {
     "data": {
      "text/plain": [
       "'C:\\\\Users\\\\Ranjit\\\\Desktop\\\\jecrc-10-may2024'"
      ]
     },
     "execution_count": 19,
     "metadata": {},
     "output_type": "execute_result"
    }
   ],
   "source": [
    "pwd "
   ]
  },
  {
   "cell_type": "code",
   "execution_count": 20,
   "id": "3340702f-a748-4fe2-bd63-5d8458e25145",
   "metadata": {},
   "outputs": [
    {
     "name": "stdout",
     "output_type": "stream",
     "text": [
      "C:\\Users\\Ranjit\\Desktop\\jecrc-10-may2024\\testing\n"
     ]
    }
   ],
   "source": [
    "cd testing"
   ]
  },
  {
   "cell_type": "code",
   "execution_count": 21,
   "id": "a7ae80e3-50e0-45c8-980c-b09b0458c020",
   "metadata": {},
   "outputs": [
    {
     "name": "stdout",
     "output_type": "stream",
     "text": [
      "C:\\Users\\Ranjit\\Desktop\\jecrc-10-may2024\n"
     ]
    }
   ],
   "source": [
    "cd .. "
   ]
  },
  {
   "cell_type": "code",
   "execution_count": 22,
   "id": "65f96f2a-fbed-49ca-a53d-996259882946",
   "metadata": {},
   "outputs": [],
   "source": [
    "os.chdir('testing') "
   ]
  },
  {
   "cell_type": "code",
   "execution_count": 23,
   "id": "b234c210-4b75-4a22-9194-89a6e81e67d5",
   "metadata": {},
   "outputs": [
    {
     "data": {
      "text/plain": [
       "'C:\\\\Users\\\\Ranjit\\\\Desktop\\\\jecrc-10-may2024\\\\testing'"
      ]
     },
     "execution_count": 23,
     "metadata": {},
     "output_type": "execute_result"
    }
   ],
   "source": [
    "os.getcwd()"
   ]
  },
  {
   "cell_type": "code",
   "execution_count": 33,
   "id": "28baab55-c73e-460f-83a7-f336d80d0c34",
   "metadata": {},
   "outputs": [
    {
     "name": "stdout",
     "output_type": "stream",
     "text": [
      "file is created \n"
     ]
    }
   ],
   "source": [
    "if os.path.exists('demo.txt'):\n",
    "    print(\"already present\")\n",
    "else:\n",
    "    file = open('demo.txt','x')\n",
    "    file.close()\n",
    "    print('file is created ')"
   ]
  },
  {
   "cell_type": "code",
   "execution_count": 28,
   "id": "2d649fa9-a16e-4c9e-86d1-ae14b61d830e",
   "metadata": {},
   "outputs": [
    {
     "data": {
      "text/plain": [
       "'C:\\\\Users\\\\Ranjit\\\\Desktop\\\\jecrc-10-may2024\\\\testing'"
      ]
     },
     "execution_count": 28,
     "metadata": {},
     "output_type": "execute_result"
    }
   ],
   "source": [
    "pwd "
   ]
  },
  {
   "cell_type": "code",
   "execution_count": null,
   "id": "1b15156d-fd50-49dd-95c2-3e0a0a82cf3e",
   "metadata": {},
   "outputs": [],
   "source": [
    "# os.rename() "
   ]
  },
  {
   "cell_type": "code",
   "execution_count": 30,
   "id": "e4fc22fe-17d6-4d34-b4ba-d7648e6559d9",
   "metadata": {},
   "outputs": [],
   "source": [
    "desktop = r\"C:\\Users\\Ranjit\\Desktop\"\n",
    "your_folder_path = r\"jecrc-10-may2024\\testing\""
   ]
  },
  {
   "cell_type": "code",
   "execution_count": 31,
   "id": "90553a01-63f8-4ac7-9115-71de21398d60",
   "metadata": {},
   "outputs": [],
   "source": [
    "complte_path = os.path.join(desktop,your_folder_path)"
   ]
  },
  {
   "cell_type": "code",
   "execution_count": 32,
   "id": "dea19b79-ab67-4c97-9c35-ab5832158139",
   "metadata": {},
   "outputs": [
    {
     "data": {
      "text/plain": [
       "'C:\\\\Users\\\\Ranjit\\\\Desktop\\\\jecrc-10-may2024\\\\testing'"
      ]
     },
     "execution_count": 32,
     "metadata": {},
     "output_type": "execute_result"
    }
   ],
   "source": [
    "complte_path"
   ]
  },
  {
   "cell_type": "code",
   "execution_count": 34,
   "id": "4c8a9edd-73ce-4892-9e69-83a143141960",
   "metadata": {},
   "outputs": [
    {
     "data": {
      "text/plain": [
       "['demo.txt']"
      ]
     },
     "execution_count": 34,
     "metadata": {},
     "output_type": "execute_result"
    }
   ],
   "source": [
    "os.listdir(complte_path) "
   ]
  },
  {
   "cell_type": "code",
   "execution_count": 36,
   "id": "8776ff36-5e6e-4fa1-8f6e-1fbf51ddae6e",
   "metadata": {},
   "outputs": [
    {
     "name": "stdout",
     "output_type": "stream",
     "text": [
      "hari ram mohan \\target \\nested loop we are learning\n"
     ]
    }
   ],
   "source": [
    "name = r\"hari ram mohan \\target \\nested loop we are learning\"\n",
    "print(name)"
   ]
  },
  {
   "cell_type": "code",
   "execution_count": 38,
   "id": "7e71d7a4-7f01-4894-b92a-18900cecd6f2",
   "metadata": {},
   "outputs": [
    {
     "name": "stdout",
     "output_type": "stream",
     "text": [
      "plz enter first \\number : \n"
     ]
    }
   ],
   "source": [
    "print(r\"plz enter first \\number : \")"
   ]
  },
  {
   "cell_type": "markdown",
   "id": "c4bd1161-5dfa-4937-83bf-0bc2c68e554f",
   "metadata": {},
   "source": [
    "## Oop in python "
   ]
  },
  {
   "cell_type": "code",
   "execution_count": null,
   "id": "2ae692de-39ad-4107-82c2-b6a37cac48d7",
   "metadata": {},
   "outputs": [],
   "source": [
    "2 parts diveded \n",
    "1. core part \n",
    "2. oop \n",
    "\n",
    "\n",
    "var \n",
    "def \n",
    "if else \n",
    "def \n",
    "\n",
    "# class is a blueprint  , template  \n",
    "# object or instance "
   ]
  },
  {
   "cell_type": "code",
   "execution_count": 40,
   "id": "0c5c1972-9d09-4733-b6e1-5d365d4c619c",
   "metadata": {},
   "outputs": [],
   "source": [
    "college = \"jecrc \""
   ]
  },
  {
   "cell_type": "code",
   "execution_count": 41,
   "id": "fe5f26f6-5586-442b-acd4-44936c20025c",
   "metadata": {},
   "outputs": [
    {
     "name": "stdout",
     "output_type": "stream",
     "text": [
      "jecrc \n"
     ]
    }
   ],
   "source": [
    "print(college)"
   ]
  },
  {
   "cell_type": "code",
   "execution_count": 19,
   "id": "11e5a8b8-7ea0-4500-b646-cd7d87214fe2",
   "metadata": {},
   "outputs": [],
   "source": [
    "class Student: \n",
    "    # class properties \n",
    "    # attributes , methods \n",
    "    # class variable or global variable \n",
    "    student_name  = \"mohit kumar\"\n",
    "    student_branch = \"cse\"\n",
    "    student_roll_no = 101 \n",
    "\n",
    "## constructor \n",
    "    def __init__(self,name,city):   ##  to initialize the variables \n",
    "        # instance variable \n",
    "        self.college_name = name\n",
    "        self.college_city = city\n",
    "        print('constructor is executed ')\n",
    "\n",
    "    # instance method \n",
    "    def display(self): \n",
    "        print(self.college_name)\n",
    "        print(self.college_city)\n",
    "\n",
    "\n",
    "# obj.variable_namw "
   ]
  },
  {
   "cell_type": "code",
   "execution_count": 21,
   "id": "b75368d2-aa79-4395-b449-d688b70fe685",
   "metadata": {},
   "outputs": [
    {
     "name": "stdout",
     "output_type": "stream",
     "text": [
      "constructor is executed \n",
      "constructor is executed \n"
     ]
    }
   ],
   "source": [
    "obj = Student(name=\"jecrc\",city='jaipur')  # object creating \n",
    "obj2 = Student(name=\"poornima\",city='goner jaipur') "
   ]
  },
  {
   "cell_type": "code",
   "execution_count": 22,
   "id": "17f89c47-3beb-474b-a642-8a0894e262b3",
   "metadata": {},
   "outputs": [
    {
     "name": "stdout",
     "output_type": "stream",
     "text": [
      "poornima\n",
      "goner jaipur\n"
     ]
    }
   ],
   "source": [
    "obj2.display()"
   ]
  },
  {
   "cell_type": "code",
   "execution_count": 12,
   "id": "107df21a-7a1d-4770-bf0f-c618e1ad8914",
   "metadata": {},
   "outputs": [
    {
     "data": {
      "text/plain": [
       "'poornima'"
      ]
     },
     "execution_count": 12,
     "metadata": {},
     "output_type": "execute_result"
    }
   ],
   "source": [
    "obj2.college_name"
   ]
  },
  {
   "cell_type": "code",
   "execution_count": 49,
   "id": "ee43ed3f-f324-4476-bf91-03bb2dd55c96",
   "metadata": {},
   "outputs": [
    {
     "name": "stdout",
     "output_type": "stream",
     "text": [
      "mohit kumar\n"
     ]
    }
   ],
   "source": [
    "print(obj.student_name)"
   ]
  },
  {
   "cell_type": "code",
   "execution_count": 50,
   "id": "2c0b3a02-effc-47ec-8c5a-e3b130f966de",
   "metadata": {},
   "outputs": [
    {
     "data": {
      "text/plain": [
       "'jecrc'"
      ]
     },
     "execution_count": 50,
     "metadata": {},
     "output_type": "execute_result"
    }
   ],
   "source": [
    "obj.college_name\n"
   ]
  },
  {
   "cell_type": "code",
   "execution_count": 51,
   "id": "c15ea2ec-21c7-4de7-a220-7cc1206bdba6",
   "metadata": {},
   "outputs": [],
   "source": [
    "obj.college_name  = 'pooornimaa university '"
   ]
  },
  {
   "cell_type": "code",
   "execution_count": 52,
   "id": "1179b446-9925-47de-a8e2-7bf029ae2efc",
   "metadata": {},
   "outputs": [
    {
     "data": {
      "text/plain": [
       "'pooornimaa university '"
      ]
     },
     "execution_count": 52,
     "metadata": {},
     "output_type": "execute_result"
    }
   ],
   "source": [
    "obj.college_name"
   ]
  },
  {
   "cell_type": "code",
   "execution_count": 53,
   "id": "722f3daf-9680-40f4-87b0-368507d31d34",
   "metadata": {},
   "outputs": [
    {
     "name": "stdout",
     "output_type": "stream",
     "text": [
      "constructor is executed \n"
     ]
    }
   ],
   "source": [
    "obj2 = Student()"
   ]
  },
  {
   "cell_type": "code",
   "execution_count": 54,
   "id": "84a8ccab-796d-439b-9abd-9861adaad94f",
   "metadata": {},
   "outputs": [
    {
     "data": {
      "text/plain": [
       "'jecrc'"
      ]
     },
     "execution_count": 54,
     "metadata": {},
     "output_type": "execute_result"
    }
   ],
   "source": [
    "obj2.college_name"
   ]
  },
  {
   "cell_type": "code",
   "execution_count": null,
   "id": "daf7f8ed-57b6-4eef-871b-f5fce4dda9fa",
   "metadata": {},
   "outputs": [],
   "source": [
    "## methods types \n",
    "# instance method \n",
    "# class method \n",
    "# static method \n",
    "# abstract method \n",
    "# concrete method \n"
   ]
  },
  {
   "cell_type": "code",
   "execution_count": 32,
   "id": "aea9c5ef-fc40-455a-be2d-19319e456429",
   "metadata": {},
   "outputs": [],
   "source": [
    "## class method \n",
    "class Student: \n",
    "    stu_name  = 'mohit sharma'\n",
    "    stu_roll_no = 21\n",
    "\n",
    "    @classmethod\n",
    "    def display(cls): \n",
    "        print(cls.stu_name)\n",
    "        print(cls.stu_roll_no)"
   ]
  },
  {
   "cell_type": "code",
   "execution_count": 33,
   "id": "7853429a-a5f4-4c84-a4ed-a298a771e064",
   "metadata": {},
   "outputs": [],
   "source": [
    "obj = Student()"
   ]
  },
  {
   "cell_type": "code",
   "execution_count": 35,
   "id": "d7cbbb77-ef88-4b66-9e8d-d1a03816a7b0",
   "metadata": {},
   "outputs": [
    {
     "name": "stdout",
     "output_type": "stream",
     "text": [
      "mohit sharma\n",
      "21\n"
     ]
    }
   ],
   "source": [
    "Student.display()"
   ]
  },
  {
   "cell_type": "code",
   "execution_count": 28,
   "id": "48724f68-703b-4fee-9f22-06cf66030095",
   "metadata": {},
   "outputs": [
    {
     "data": {
      "text/plain": [
       "'mohit sharma'"
      ]
     },
     "execution_count": 28,
     "metadata": {},
     "output_type": "execute_result"
    }
   ],
   "source": [
    "Student.stu_name"
   ]
  },
  {
   "cell_type": "code",
   "execution_count": 30,
   "id": "b6b67283-8626-4947-897b-50265342d86a",
   "metadata": {},
   "outputs": [],
   "source": [
    "obj = Student()"
   ]
  },
  {
   "cell_type": "code",
   "execution_count": 31,
   "id": "d4cee39f-d889-498d-a09a-1bcebea7d886",
   "metadata": {},
   "outputs": [
    {
     "name": "stdout",
     "output_type": "stream",
     "text": [
      "mohit sharma\n",
      "21\n"
     ]
    }
   ],
   "source": [
    "obj.display()"
   ]
  },
  {
   "cell_type": "code",
   "execution_count": 45,
   "id": "c98eb61f-787d-4106-ac8a-fa1af6e92e63",
   "metadata": {},
   "outputs": [],
   "source": [
    "class AB:\n",
    "    def __init__(self):\n",
    "        self.ls = [21,41,52,63,96,85,74,75,84,96,36,251,452,45,142]\n",
    "\n",
    "    def average_finder(self):\n",
    "        total_sum = 0 \n",
    "        count = 0 \n",
    "        for item in self.ls: \n",
    "            total_sum += item \n",
    "            count +=1 \n",
    "        print(\"your average is : \",total_sum/count)\n",
    "\n",
    "    def position_finder(self, target): \n",
    "        for i in range(len(self.ls)):\n",
    "            if self.ls[i] == target: \n",
    "                print(target, \">>>>>>  \",i)\n",
    "                \n",
    "            "
   ]
  },
  {
   "cell_type": "code",
   "execution_count": 46,
   "id": "bc872c06-f247-4799-acf8-d583e8450d39",
   "metadata": {},
   "outputs": [
    {
     "name": "stdout",
     "output_type": "stream",
     "text": [
      "your average is :  107.53333333333333\n",
      "52 >>>>>>   2\n"
     ]
    }
   ],
   "source": [
    "obj = AB()\n",
    "obj.average_finder() \n",
    "obj.position_finder(52)"
   ]
  },
  {
   "cell_type": "markdown",
   "id": "055318e7-e983-4551-8451-e202ee810a74",
   "metadata": {},
   "source": [
    "### inheritance "
   ]
  },
  {
   "cell_type": "code",
   "execution_count": 53,
   "id": "eb8f01a2-a69f-419c-8096-bde13a3a84e2",
   "metadata": {},
   "outputs": [],
   "source": [
    "## \n",
    "# 1. SINGLE INHARITANCE \n",
    "# 2. MULTIPLE \n",
    "# 3. MULTILEVEL \n",
    "# 4. HYBRID \n",
    "# 5. HEIRARCHICAL \n",
    "class A:\n",
    "    var_a = 'hii from A' \n",
    "\n",
    "\n",
    "class B(A): \n",
    "    var_b = \"hiii from B\""
   ]
  },
  {
   "cell_type": "code",
   "execution_count": 54,
   "id": "aeb5327e-1498-413f-bf5d-5b07ab4fc277",
   "metadata": {},
   "outputs": [],
   "source": [
    "obj_a = A()\n",
    "obj_b = B()"
   ]
  },
  {
   "cell_type": "code",
   "execution_count": 55,
   "id": "8d1288a1-eff7-42eb-86c2-8ee24eb51e37",
   "metadata": {},
   "outputs": [
    {
     "data": {
      "text/plain": [
       "'hii from A'"
      ]
     },
     "execution_count": 55,
     "metadata": {},
     "output_type": "execute_result"
    }
   ],
   "source": [
    "obj_b.var_a"
   ]
  },
  {
   "cell_type": "code",
   "execution_count": 64,
   "id": "cefdc7c4-b3d4-4b9a-8adb-f0e72d3309ad",
   "metadata": {},
   "outputs": [],
   "source": [
    "# inheritance with constructor  \n",
    "class Father: \n",
    "    def __init__(self,name,age):\n",
    "        self.father_name = name\n",
    "        self.father_age = age\n",
    "\n",
    "    def father_hii(self): \n",
    "        print(\"my father name is :  \",self.father_name)\n",
    "        print(\"and age of my father is : \",self.father_age)\n",
    "\n",
    "\n",
    "class Son(Father):\n",
    "    son_name = \"Ritik\"\n",
    "    son_age = 19\n",
    "    def son_hii(self):\n",
    "        print(\"son name is :\",self.son_name)\n",
    "        print(\"and age is :\",self.son_age)\n",
    "\n",
    "\n",
    "    def full_intro(self):\n",
    "        # father detail \n",
    "        # son detaill\n",
    "        self.father_hii()\n",
    "        print()\n",
    "        self.son_hii()\n"
   ]
  },
  {
   "cell_type": "code",
   "execution_count": 65,
   "id": "bdd8e14a-da9c-40c5-81cc-03ab7d44799f",
   "metadata": {},
   "outputs": [
    {
     "name": "stdout",
     "output_type": "stream",
     "text": [
      "my father name is :   dharmpal singh\n",
      "and age of my father is :  45\n",
      "\n",
      "son name is : Ritik\n",
      "and age is : 19\n"
     ]
    }
   ],
   "source": [
    "son_obj = Son(name='dharmpal singh',age=45)\n",
    "son_obj.full_intro()"
   ]
  },
  {
   "cell_type": "code",
   "execution_count": 62,
   "id": "1b1af47a-3edf-41e9-8c51-e753fe3a9d20",
   "metadata": {},
   "outputs": [
    {
     "name": "stdout",
     "output_type": "stream",
     "text": [
      "my father name is :   dharmpal singh\n",
      "and age of my father is :  45\n"
     ]
    }
   ],
   "source": [
    "son_obj.father_hii() "
   ]
  },
  {
   "cell_type": "code",
   "execution_count": 63,
   "id": "06c812ee-eb91-4f21-bfc4-f86d88d0bfbe",
   "metadata": {},
   "outputs": [
    {
     "name": "stdout",
     "output_type": "stream",
     "text": [
      "son name is : Ritik\n",
      "and age is : 19\n"
     ]
    }
   ],
   "source": [
    "son_obj.son_hii()"
   ]
  }
 ],
 "metadata": {
  "kernelspec": {
   "display_name": "Python 3 (ipykernel)",
   "language": "python",
   "name": "python3"
  },
  "language_info": {
   "codemirror_mode": {
    "name": "ipython",
    "version": 3
   },
   "file_extension": ".py",
   "mimetype": "text/x-python",
   "name": "python",
   "nbconvert_exporter": "python",
   "pygments_lexer": "ipython3",
   "version": "3.11.5"
  }
 },
 "nbformat": 4,
 "nbformat_minor": 5
}
