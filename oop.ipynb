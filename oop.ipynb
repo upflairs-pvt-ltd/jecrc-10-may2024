{
 "cells": [
  {
   "cell_type": "markdown",
   "id": "6fa92ea7-a21a-4218-b6e1-c98066312581",
   "metadata": {},
   "source": [
    "### Oop programing "
   ]
  },
  {
   "cell_type": "code",
   "execution_count": 1,
   "id": "3c55ace3-8f64-4033-9c05-34cd7ce4edee",
   "metadata": {},
   "outputs": [],
   "source": [
    "import os "
   ]
  },
  {
   "cell_type": "code",
   "execution_count": 2,
   "id": "3333ef1e-150a-4354-a8ef-0bb3033648fe",
   "metadata": {},
   "outputs": [
    {
     "data": {
      "text/plain": [
       "'C:\\\\Users\\\\Ranjit\\\\Desktop\\\\jecrc-10-may2024'"
      ]
     },
     "execution_count": 2,
     "metadata": {},
     "output_type": "execute_result"
    }
   ],
   "source": [
    "pwd "
   ]
  },
  {
   "cell_type": "code",
   "execution_count": 3,
   "id": "b1217b92-80e9-41c6-b9a6-c79845b4a64f",
   "metadata": {},
   "outputs": [
    {
     "data": {
      "text/plain": [
       "'C:\\\\Users\\\\Ranjit\\\\Desktop\\\\jecrc-10-may2024'"
      ]
     },
     "execution_count": 3,
     "metadata": {},
     "output_type": "execute_result"
    }
   ],
   "source": [
    "os.getcwd()"
   ]
  },
  {
   "cell_type": "code",
   "execution_count": 4,
   "id": "9f2f5bde-cfa9-4f85-8853-df44c9090684",
   "metadata": {},
   "outputs": [
    {
     "name": "stdout",
     "output_type": "stream",
     "text": [
      " Volume in drive C has no label.\n",
      " Volume Serial Number is 9C35-B5F9\n",
      "\n",
      " Directory of C:\\Users\\Ranjit\\Desktop\\jecrc-10-may2024\n",
      "\n",
      "21-05-2024  10:56    <DIR>          .\n",
      "21-05-2024  10:56    <DIR>          ..\n",
      "21-05-2024  10:50    <DIR>          .ipynb_checkpoints\n",
      "11-05-2024  11:15    <DIR>          .vscode\n",
      "18-05-2024  12:27    <DIR>          __pycache__\n",
      "16-05-2024  11:50             1,474 atm_simulation.py\n",
      "11-05-2024  12:33             1,118 day_2.py\n",
      "18-05-2024  10:44             5,361 day_5_loop.ipynb\n",
      "11-05-2024  11:02               117 day-1.py\n",
      "13-05-2024  12:24             1,444 day-3.py\n",
      "15-05-2024  15:23             1,802 day5.py\n",
      "18-05-2024  12:11             1,042 day8.py\n",
      "20-05-2024  11:36               580 demo.txt\n",
      "20-05-2024  12:34             9,882 file_handling.ipynb\n",
      "18-05-2024  12:30               411 hello.py\n",
      "20-05-2024  11:10                16 hello.txt\n",
      "20-05-2024  11:57                99 jecrc.txt\n",
      "21-05-2024  10:56             1,364 oop.ipynb\n",
      "13-05-2024  16:20                18 README.md\n",
      "18-05-2024  12:31                39 test.py\n",
      "20-05-2024  11:22                82 test.txt\n",
      "              16 File(s)         24,849 bytes\n",
      "               5 Dir(s)  29,663,592,448 bytes free\n"
     ]
    }
   ],
   "source": [
    "ls "
   ]
  },
  {
   "cell_type": "code",
   "execution_count": 5,
   "id": "dc674820-a7ce-4d2e-ba48-bb9e8dcb0ad8",
   "metadata": {},
   "outputs": [
    {
     "data": {
      "text/plain": [
       "['.git',\n",
       " '.ipynb_checkpoints',\n",
       " '.vscode',\n",
       " 'atm_simulation.py',\n",
       " 'day-1.py',\n",
       " 'day-3.py',\n",
       " 'day5.py',\n",
       " 'day8.py',\n",
       " 'day_2.py',\n",
       " 'day_5_loop.ipynb',\n",
       " 'demo.txt',\n",
       " 'file_handling.ipynb',\n",
       " 'hello.py',\n",
       " 'hello.txt',\n",
       " 'jecrc.txt',\n",
       " 'oop.ipynb',\n",
       " 'README.md',\n",
       " 'test.py',\n",
       " 'test.txt',\n",
       " '__pycache__']"
      ]
     },
     "execution_count": 5,
     "metadata": {},
     "output_type": "execute_result"
    }
   ],
   "source": [
    "# ls , dir  \n",
    "os.listdir()"
   ]
  },
  {
   "cell_type": "code",
   "execution_count": 8,
   "id": "67344b62-3cc9-4f1f-b27c-529e4b13837c",
   "metadata": {},
   "outputs": [],
   "source": [
    "os.listdir(\"E:\\HD images\") # return current working directory "
   ]
  },
  {
   "cell_type": "code",
   "execution_count": null,
   "id": "7d1e569d-db40-402d-b2c6-fccf25687ef1",
   "metadata": {},
   "outputs": [],
   "source": [
    "# os.chdir()"
   ]
  },
  {
   "cell_type": "code",
   "execution_count": 12,
   "id": "3dcdb48e-df98-4239-953e-4c4f2078747f",
   "metadata": {},
   "outputs": [
    {
     "ename": "FileExistsError",
     "evalue": "[WinError 183] Cannot create a file when that file already exists: 'testing'",
     "output_type": "error",
     "traceback": [
      "\u001b[1;31m---------------------------------------------------------------------------\u001b[0m",
      "\u001b[1;31mFileExistsError\u001b[0m                           Traceback (most recent call last)",
      "Cell \u001b[1;32mIn[12], line 2\u001b[0m\n\u001b[0;32m      1\u001b[0m \u001b[38;5;66;03m# mkdir testing  \u001b[39;00m\n\u001b[1;32m----> 2\u001b[0m \u001b[43mos\u001b[49m\u001b[38;5;241;43m.\u001b[39;49m\u001b[43mmkdir\u001b[49m\u001b[43m(\u001b[49m\u001b[38;5;124;43m'\u001b[39;49m\u001b[38;5;124;43mtesting\u001b[39;49m\u001b[38;5;124;43m'\u001b[39;49m\u001b[43m)\u001b[49m\n",
      "\u001b[1;31mFileExistsError\u001b[0m: [WinError 183] Cannot create a file when that file already exists: 'testing'"
     ]
    }
   ],
   "source": [
    "# mkdir testing  \n",
    "os.mkdir('testing')"
   ]
  },
  {
   "cell_type": "code",
   "execution_count": 18,
   "id": "c701b629-3e38-461a-b412-9377e3376edd",
   "metadata": {},
   "outputs": [],
   "source": [
    "os.makedirs('testing',exist_ok=True)"
   ]
  },
  {
   "cell_type": "code",
   "execution_count": 19,
   "id": "978e4956-4624-47eb-9df5-7681bd12e53e",
   "metadata": {},
   "outputs": [
    {
     "data": {
      "text/plain": [
       "'C:\\\\Users\\\\Ranjit\\\\Desktop\\\\jecrc-10-may2024'"
      ]
     },
     "execution_count": 19,
     "metadata": {},
     "output_type": "execute_result"
    }
   ],
   "source": [
    "pwd "
   ]
  },
  {
   "cell_type": "code",
   "execution_count": 20,
   "id": "3340702f-a748-4fe2-bd63-5d8458e25145",
   "metadata": {},
   "outputs": [
    {
     "name": "stdout",
     "output_type": "stream",
     "text": [
      "C:\\Users\\Ranjit\\Desktop\\jecrc-10-may2024\\testing\n"
     ]
    }
   ],
   "source": [
    "cd testing"
   ]
  },
  {
   "cell_type": "code",
   "execution_count": 21,
   "id": "a7ae80e3-50e0-45c8-980c-b09b0458c020",
   "metadata": {},
   "outputs": [
    {
     "name": "stdout",
     "output_type": "stream",
     "text": [
      "C:\\Users\\Ranjit\\Desktop\\jecrc-10-may2024\n"
     ]
    }
   ],
   "source": [
    "cd .. "
   ]
  },
  {
   "cell_type": "code",
   "execution_count": 22,
   "id": "65f96f2a-fbed-49ca-a53d-996259882946",
   "metadata": {},
   "outputs": [],
   "source": [
    "os.chdir('testing') "
   ]
  },
  {
   "cell_type": "code",
   "execution_count": 23,
   "id": "b234c210-4b75-4a22-9194-89a6e81e67d5",
   "metadata": {},
   "outputs": [
    {
     "data": {
      "text/plain": [
       "'C:\\\\Users\\\\Ranjit\\\\Desktop\\\\jecrc-10-may2024\\\\testing'"
      ]
     },
     "execution_count": 23,
     "metadata": {},
     "output_type": "execute_result"
    }
   ],
   "source": [
    "os.getcwd()"
   ]
  },
  {
   "cell_type": "code",
   "execution_count": 33,
   "id": "28baab55-c73e-460f-83a7-f336d80d0c34",
   "metadata": {},
   "outputs": [
    {
     "name": "stdout",
     "output_type": "stream",
     "text": [
      "file is created \n"
     ]
    }
   ],
   "source": [
    "if os.path.exists('demo.txt'):\n",
    "    print(\"already present\")\n",
    "else:\n",
    "    file = open('demo.txt','x')\n",
    "    file.close()\n",
    "    print('file is created ')"
   ]
  },
  {
   "cell_type": "code",
   "execution_count": 28,
   "id": "2d649fa9-a16e-4c9e-86d1-ae14b61d830e",
   "metadata": {},
   "outputs": [
    {
     "data": {
      "text/plain": [
       "'C:\\\\Users\\\\Ranjit\\\\Desktop\\\\jecrc-10-may2024\\\\testing'"
      ]
     },
     "execution_count": 28,
     "metadata": {},
     "output_type": "execute_result"
    }
   ],
   "source": [
    "pwd "
   ]
  },
  {
   "cell_type": "code",
   "execution_count": null,
   "id": "1b15156d-fd50-49dd-95c2-3e0a0a82cf3e",
   "metadata": {},
   "outputs": [],
   "source": [
    "# os.rename() "
   ]
  },
  {
   "cell_type": "code",
   "execution_count": 30,
   "id": "e4fc22fe-17d6-4d34-b4ba-d7648e6559d9",
   "metadata": {},
   "outputs": [],
   "source": [
    "desktop = r\"C:\\Users\\Ranjit\\Desktop\"\n",
    "your_folder_path = r\"jecrc-10-may2024\\testing\""
   ]
  },
  {
   "cell_type": "code",
   "execution_count": 31,
   "id": "90553a01-63f8-4ac7-9115-71de21398d60",
   "metadata": {},
   "outputs": [],
   "source": [
    "complte_path = os.path.join(desktop,your_folder_path)"
   ]
  },
  {
   "cell_type": "code",
   "execution_count": 32,
   "id": "dea19b79-ab67-4c97-9c35-ab5832158139",
   "metadata": {},
   "outputs": [
    {
     "data": {
      "text/plain": [
       "'C:\\\\Users\\\\Ranjit\\\\Desktop\\\\jecrc-10-may2024\\\\testing'"
      ]
     },
     "execution_count": 32,
     "metadata": {},
     "output_type": "execute_result"
    }
   ],
   "source": [
    "complte_path"
   ]
  },
  {
   "cell_type": "code",
   "execution_count": 34,
   "id": "4c8a9edd-73ce-4892-9e69-83a143141960",
   "metadata": {},
   "outputs": [
    {
     "data": {
      "text/plain": [
       "['demo.txt']"
      ]
     },
     "execution_count": 34,
     "metadata": {},
     "output_type": "execute_result"
    }
   ],
   "source": [
    "os.listdir(complte_path) "
   ]
  },
  {
   "cell_type": "code",
   "execution_count": 36,
   "id": "8776ff36-5e6e-4fa1-8f6e-1fbf51ddae6e",
   "metadata": {},
   "outputs": [
    {
     "name": "stdout",
     "output_type": "stream",
     "text": [
      "hari ram mohan \\target \\nested loop we are learning\n"
     ]
    }
   ],
   "source": [
    "name = r\"hari ram mohan \\target \\nested loop we are learning\"\n",
    "print(name)"
   ]
  },
  {
   "cell_type": "code",
   "execution_count": 38,
   "id": "7e71d7a4-7f01-4894-b92a-18900cecd6f2",
   "metadata": {},
   "outputs": [
    {
     "name": "stdout",
     "output_type": "stream",
     "text": [
      "plz enter first \\number : \n"
     ]
    }
   ],
   "source": [
    "print(r\"plz enter first \\number : \")"
   ]
  },
  {
   "cell_type": "markdown",
   "id": "c4bd1161-5dfa-4937-83bf-0bc2c68e554f",
   "metadata": {},
   "source": [
    "## Oop in python "
   ]
  },
  {
   "cell_type": "code",
   "execution_count": null,
   "id": "2ae692de-39ad-4107-82c2-b6a37cac48d7",
   "metadata": {},
   "outputs": [],
   "source": [
    "2 parts diveded \n",
    "1. core part \n",
    "2. oop \n",
    "\n",
    "\n",
    "var \n",
    "def \n",
    "if else \n",
    "def \n",
    "\n",
    "# class is a blueprint  , template  \n",
    "# object or instance "
   ]
  },
  {
   "cell_type": "code",
   "execution_count": 40,
   "id": "0c5c1972-9d09-4733-b6e1-5d365d4c619c",
   "metadata": {},
   "outputs": [],
   "source": [
    "college = \"jecrc \""
   ]
  },
  {
   "cell_type": "code",
   "execution_count": 41,
   "id": "fe5f26f6-5586-442b-acd4-44936c20025c",
   "metadata": {},
   "outputs": [
    {
     "name": "stdout",
     "output_type": "stream",
     "text": [
      "jecrc \n"
     ]
    }
   ],
   "source": [
    "print(college)"
   ]
  },
  {
   "cell_type": "code",
   "execution_count": 47,
   "id": "11e5a8b8-7ea0-4500-b646-cd7d87214fe2",
   "metadata": {},
   "outputs": [],
   "source": [
    "class Student: \n",
    "    # class properties \n",
    "    # attributes , methods \n",
    "    # class variable or global variable \n",
    "    student_name  = \"mohit kumar\"\n",
    "    student_branch = \"cse\"\n",
    "    student_roll_no = 101 \n",
    "\n",
    "## constructor \n",
    "    def __init__(self): \n",
    "        # instance variable \n",
    "        self.college_name = \"jecrc\"\n",
    "        self.college_city = \"jaipur\"\n",
    "        print('constructor is executed ')\n",
    "\n",
    "\n"
   ]
  },
  {
   "cell_type": "code",
   "execution_count": 48,
   "id": "b75368d2-aa79-4395-b449-d688b70fe685",
   "metadata": {},
   "outputs": [
    {
     "name": "stdout",
     "output_type": "stream",
     "text": [
      "constructor is executed \n"
     ]
    }
   ],
   "source": [
    "obj = Student()  # object creating "
   ]
  },
  {
   "cell_type": "code",
   "execution_count": 49,
   "id": "ee43ed3f-f324-4476-bf91-03bb2dd55c96",
   "metadata": {},
   "outputs": [
    {
     "name": "stdout",
     "output_type": "stream",
     "text": [
      "mohit kumar\n"
     ]
    }
   ],
   "source": [
    "print(obj.student_name)"
   ]
  },
  {
   "cell_type": "code",
   "execution_count": 50,
   "id": "2c0b3a02-effc-47ec-8c5a-e3b130f966de",
   "metadata": {},
   "outputs": [
    {
     "data": {
      "text/plain": [
       "'jecrc'"
      ]
     },
     "execution_count": 50,
     "metadata": {},
     "output_type": "execute_result"
    }
   ],
   "source": [
    "obj.college_name\n"
   ]
  },
  {
   "cell_type": "code",
   "execution_count": 51,
   "id": "c15ea2ec-21c7-4de7-a220-7cc1206bdba6",
   "metadata": {},
   "outputs": [],
   "source": [
    "obj.college_name  = 'pooornimaa university '"
   ]
  },
  {
   "cell_type": "code",
   "execution_count": 52,
   "id": "1179b446-9925-47de-a8e2-7bf029ae2efc",
   "metadata": {},
   "outputs": [
    {
     "data": {
      "text/plain": [
       "'pooornimaa university '"
      ]
     },
     "execution_count": 52,
     "metadata": {},
     "output_type": "execute_result"
    }
   ],
   "source": [
    "obj.college_name"
   ]
  },
  {
   "cell_type": "code",
   "execution_count": 53,
   "id": "722f3daf-9680-40f4-87b0-368507d31d34",
   "metadata": {},
   "outputs": [
    {
     "name": "stdout",
     "output_type": "stream",
     "text": [
      "constructor is executed \n"
     ]
    }
   ],
   "source": [
    "obj2 = Student()"
   ]
  },
  {
   "cell_type": "code",
   "execution_count": 54,
   "id": "84a8ccab-796d-439b-9abd-9861adaad94f",
   "metadata": {},
   "outputs": [
    {
     "data": {
      "text/plain": [
       "'jecrc'"
      ]
     },
     "execution_count": 54,
     "metadata": {},
     "output_type": "execute_result"
    }
   ],
   "source": [
    "obj2.college_name"
   ]
  }
 ],
 "metadata": {
  "kernelspec": {
   "display_name": "Python 3 (ipykernel)",
   "language": "python",
   "name": "python3"
  },
  "language_info": {
   "codemirror_mode": {
    "name": "ipython",
    "version": 3
   },
   "file_extension": ".py",
   "mimetype": "text/x-python",
   "name": "python",
   "nbconvert_exporter": "python",
   "pygments_lexer": "ipython3",
   "version": "3.11.5"
  }
 },
 "nbformat": 4,
 "nbformat_minor": 5
}
